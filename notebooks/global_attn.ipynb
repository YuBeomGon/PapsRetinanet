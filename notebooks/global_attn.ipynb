{
 "cells": [
  {
   "cell_type": "code",
   "execution_count": 1,
   "id": "1ba2260a-21f9-41b5-bfea-68ce8f8e0a52",
   "metadata": {},
   "outputs": [],
   "source": [
    "import torch\n",
    "import torch.nn as nn\n",
    "import numpy as np"
   ]
  },
  {
   "cell_type": "code",
   "execution_count": 3,
   "id": "6b0ee1d5-10af-465b-8aad-e50a731ecc10",
   "metadata": {},
   "outputs": [
    {
     "data": {
      "text/plain": [
       "torch.Size([2, 3, 6, 6])"
      ]
     },
     "execution_count": 3,
     "metadata": {},
     "output_type": "execute_result"
    }
   ],
   "source": [
    "a = torch.arange(36*6)\n",
    "a = a.reshape(2,3,6,6)\n",
    "a.shape"
   ]
  },
  {
   "cell_type": "code",
   "execution_count": 4,
   "id": "a552473a-0f28-42f4-aeb0-7d319caacc0c",
   "metadata": {},
   "outputs": [
    {
     "data": {
      "text/plain": [
       "torch.Size([2, 3, 2, 3, 2, 3])"
      ]
     },
     "execution_count": 4,
     "metadata": {},
     "output_type": "execute_result"
    }
   ],
   "source": [
    "a = a.view(2,3,2,3,2,3)\n",
    "a.shape"
   ]
  },
  {
   "cell_type": "code",
   "execution_count": 5,
   "id": "10afc2bb-939e-43bc-ab08-0c29a7f4ec2a",
   "metadata": {},
   "outputs": [
    {
     "data": {
      "text/plain": [
       "torch.Size([2, 2, 2, 3, 3, 3])"
      ]
     },
     "execution_count": 5,
     "metadata": {},
     "output_type": "execute_result"
    }
   ],
   "source": [
    "a = a.permute(0, 2, 4, 3, 5, 1)\n",
    "a.shape"
   ]
  },
  {
   "cell_type": "code",
   "execution_count": 10,
   "id": "846911e6-3b1d-499c-86e1-d591754cb4af",
   "metadata": {},
   "outputs": [
    {
     "data": {
      "text/plain": [
       "torch.Size([8, 9, 3])"
      ]
     },
     "execution_count": 10,
     "metadata": {},
     "output_type": "execute_result"
    }
   ],
   "source": [
    "a1 = a.contiguous().view(-1,3*3,3)\n",
    "a1.shape"
   ]
  },
  {
   "cell_type": "code",
   "execution_count": 30,
   "id": "30286c0c-5cc6-4d7f-8d92-a996d07ab46f",
   "metadata": {},
   "outputs": [
    {
     "data": {
      "text/plain": [
       "torch.Size([2, 3, 6, 6])"
      ]
     },
     "execution_count": 30,
     "metadata": {},
     "output_type": "execute_result"
    }
   ],
   "source": [
    "a = torch.arange(36*6)\n",
    "a = a.reshape(2,3,6,6)\n",
    "a.shape"
   ]
  },
  {
   "cell_type": "code",
   "execution_count": 31,
   "id": "b7655643-0c59-4672-b1b8-e9e695e48833",
   "metadata": {},
   "outputs": [
    {
     "data": {
      "text/plain": [
       "tensor([[[[  0,   1,   2,   3,   4,   5],\n",
       "          [  6,   7,   8,   9,  10,  11],\n",
       "          [ 12,  13,  14,  15,  16,  17],\n",
       "          [ 18,  19,  20,  21,  22,  23],\n",
       "          [ 24,  25,  26,  27,  28,  29],\n",
       "          [ 30,  31,  32,  33,  34,  35]],\n",
       "\n",
       "         [[ 36,  37,  38,  39,  40,  41],\n",
       "          [ 42,  43,  44,  45,  46,  47],\n",
       "          [ 48,  49,  50,  51,  52,  53],\n",
       "          [ 54,  55,  56,  57,  58,  59],\n",
       "          [ 60,  61,  62,  63,  64,  65],\n",
       "          [ 66,  67,  68,  69,  70,  71]],\n",
       "\n",
       "         [[ 72,  73,  74,  75,  76,  77],\n",
       "          [ 78,  79,  80,  81,  82,  83],\n",
       "          [ 84,  85,  86,  87,  88,  89],\n",
       "          [ 90,  91,  92,  93,  94,  95],\n",
       "          [ 96,  97,  98,  99, 100, 101],\n",
       "          [102, 103, 104, 105, 106, 107]]],\n",
       "\n",
       "\n",
       "        [[[108, 109, 110, 111, 112, 113],\n",
       "          [114, 115, 116, 117, 118, 119],\n",
       "          [120, 121, 122, 123, 124, 125],\n",
       "          [126, 127, 128, 129, 130, 131],\n",
       "          [132, 133, 134, 135, 136, 137],\n",
       "          [138, 139, 140, 141, 142, 143]],\n",
       "\n",
       "         [[144, 145, 146, 147, 148, 149],\n",
       "          [150, 151, 152, 153, 154, 155],\n",
       "          [156, 157, 158, 159, 160, 161],\n",
       "          [162, 163, 164, 165, 166, 167],\n",
       "          [168, 169, 170, 171, 172, 173],\n",
       "          [174, 175, 176, 177, 178, 179]],\n",
       "\n",
       "         [[180, 181, 182, 183, 184, 185],\n",
       "          [186, 187, 188, 189, 190, 191],\n",
       "          [192, 193, 194, 195, 196, 197],\n",
       "          [198, 199, 200, 201, 202, 203],\n",
       "          [204, 205, 206, 207, 208, 209],\n",
       "          [210, 211, 212, 213, 214, 215]]]])"
      ]
     },
     "execution_count": 31,
     "metadata": {},
     "output_type": "execute_result"
    }
   ],
   "source": [
    "a"
   ]
  },
  {
   "cell_type": "code",
   "execution_count": 32,
   "id": "925f1e1b-0ea4-492c-8bf4-6db2d3b00312",
   "metadata": {},
   "outputs": [
    {
     "data": {
      "text/plain": [
       "torch.Size([2, 3, 2, 3, 2, 3])"
      ]
     },
     "execution_count": 32,
     "metadata": {},
     "output_type": "execute_result"
    }
   ],
   "source": [
    "a = a.view(2,3,2,3,2,3)\n",
    "a.shape"
   ]
  },
  {
   "cell_type": "code",
   "execution_count": 33,
   "id": "ba05dbec-5efd-4983-87a8-79f51c414179",
   "metadata": {},
   "outputs": [
    {
     "data": {
      "text/plain": [
       "torch.Size([2, 3, 3, 2, 2, 3])"
      ]
     },
     "execution_count": 33,
     "metadata": {},
     "output_type": "execute_result"
    }
   ],
   "source": [
    "a = a.permute(0, 3, 5, 2, 4, 1)\n",
    "a.shape"
   ]
  },
  {
   "cell_type": "code",
   "execution_count": 34,
   "id": "b6deee3f-65a4-4fa8-b85e-c30d040ec482",
   "metadata": {},
   "outputs": [
    {
     "data": {
      "text/plain": [
       "torch.Size([18, 4, 3])"
      ]
     },
     "execution_count": 34,
     "metadata": {},
     "output_type": "execute_result"
    }
   ],
   "source": [
    "a2 = a.contiguous().view(-1,2*2,3)\n",
    "a2.shape"
   ]
  },
  {
   "cell_type": "code",
   "execution_count": 35,
   "id": "01026754-288b-49c8-9130-f5a2ef2cdf70",
   "metadata": {},
   "outputs": [
    {
     "data": {
      "text/plain": [
       "tensor([ 0,  3, 18, 21])"
      ]
     },
     "execution_count": 35,
     "metadata": {},
     "output_type": "execute_result"
    }
   ],
   "source": [
    "a2[0,:,0]"
   ]
  },
  {
   "cell_type": "code",
   "execution_count": 22,
   "id": "63ccf076-1be1-49bf-b4fb-81261ed86c0f",
   "metadata": {},
   "outputs": [
    {
     "data": {
      "text/plain": [
       "torch.Size([18, 2, 2, 3])"
      ]
     },
     "execution_count": 22,
     "metadata": {},
     "output_type": "execute_result"
    }
   ],
   "source": [
    "a2 =a2.view(-1,2,2,3)\n",
    "a2.shape"
   ]
  },
  {
   "cell_type": "code",
   "execution_count": 23,
   "id": "8b4e5d43-52e6-41ba-86ee-31e9ebfff478",
   "metadata": {},
   "outputs": [
    {
     "data": {
      "text/plain": [
       "torch.Size([2, 3, 3, 3, 2, 2])"
      ]
     },
     "execution_count": 23,
     "metadata": {},
     "output_type": "execute_result"
    }
   ],
   "source": [
    "a2 = a2.view(2,-1, 3,3,2,2)\n",
    "a2.shape"
   ]
  },
  {
   "cell_type": "code",
   "execution_count": 24,
   "id": "53dd6670-73df-4ac8-9934-458527ceab51",
   "metadata": {},
   "outputs": [
    {
     "data": {
      "text/plain": [
       "torch.Size([2, 3, 3, 2, 3, 2])"
      ]
     },
     "execution_count": 24,
     "metadata": {},
     "output_type": "execute_result"
    }
   ],
   "source": [
    "a2 = a2.permute(0,1,2,4,3,5)\n",
    "a2.shape"
   ]
  },
  {
   "cell_type": "code",
   "execution_count": 26,
   "id": "9cd7fb61-3bb3-405e-90f7-ac3bbffc863e",
   "metadata": {},
   "outputs": [
    {
     "data": {
      "text/plain": [
       "torch.Size([2, 3, 6, 6])"
      ]
     },
     "execution_count": 26,
     "metadata": {},
     "output_type": "execute_result"
    }
   ],
   "source": [
    "a2 = a2.contiguous().view(2,-1, 6,6)\n",
    "a2.shape"
   ]
  },
  {
   "cell_type": "code",
   "execution_count": null,
   "id": "044ad3e2-0859-4d99-afe3-cb688a2dd733",
   "metadata": {},
   "outputs": [],
   "source": []
  }
 ],
 "metadata": {
  "kernelspec": {
   "display_name": "pytorch",
   "language": "python",
   "name": "pytorch"
  },
  "language_info": {
   "codemirror_mode": {
    "name": "ipython",
    "version": 3
   },
   "file_extension": ".py",
   "mimetype": "text/x-python",
   "name": "python",
   "nbconvert_exporter": "python",
   "pygments_lexer": "ipython3",
   "version": "3.7.9"
  }
 },
 "nbformat": 4,
 "nbformat_minor": 5
}

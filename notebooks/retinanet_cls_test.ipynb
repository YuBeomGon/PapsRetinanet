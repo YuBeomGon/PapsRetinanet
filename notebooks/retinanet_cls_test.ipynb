{
 "cells": [
  {
   "cell_type": "code",
   "execution_count": 1,
   "id": "21475843-3fb8-4d70-96eb-84bc0afcc916",
   "metadata": {},
   "outputs": [],
   "source": [
    "import os\n",
    "import timm\n",
    "import logging\n",
    "import argparse\n",
    "import pandas as pd\n",
    "from typing import Optional\n",
    "from datetime import datetime\n",
    "\n",
    "import sys\n",
    "sys.path.append('../')\n",
    "\n",
    "import torch\n",
    "import torch.nn as nn\n",
    "import torch.nn.functional as F\n",
    "import torch.nn.parallel\n",
    "import torch.optim as optim\n",
    "import torch.optim.lr_scheduler as lr_scheduler\n",
    "import torch.utils.data\n",
    "import torch.utils.data.distributed\n",
    "import torchvision.datasets as datasets\n",
    "import torchvision.models as models\n",
    "import torchvision.transforms as transforms\n",
    "from torch.utils.data import Dataset\n",
    "from torchmetrics import Accuracy, F1Score, Specificity\n",
    "\n",
    "from pytorch_lightning import LightningModule\n",
    "from pytorch_lightning.lite import LightningLite\n",
    "from pytorch_lightning.callbacks import ModelCheckpoint, TQDMProgressBar\n",
    "from pytorch_lightning.strategies import ParallelStrategy\n",
    "from pytorch_lightning.utilities.cli import LightningCLI\n",
    "from pytorch_lightning import Trainer\n",
    "# from pytorch_lightning import loggers as pl_loggers\n",
    "from pytorch_lightning.loggers import TensorBoardLogger, WandbLogger\n",
    "from pytorch_lightning.callbacks import ModelCheckpoint, EarlyStopping, LearningRateMonitor\n",
    "from pytorch_lightning.plugins import DDPPlugin\n",
    "\n",
    "from utils.dataset import PapsDetDataset, train_transforms, val_transforms, test_transforms, MAX_IMAGE_SIZE\n",
    "from utils.collate import collate_fn\n",
    "# from utils.sampler_by_group import GroupedBatchSampler, create_area_groups\n",
    "# from utils.losses import SupConLoss, FocalLoss\n",
    "\n",
    "from cls_utils.block import Bottleneck, TwoMLPHead, RoIPool"
   ]
  },
  {
   "cell_type": "code",
   "execution_count": 2,
   "id": "2d579eb1-8785-4c5a-a291-85d2e81280cf",
   "metadata": {},
   "outputs": [],
   "source": [
    "num_classes = 6\n",
    "model = timm.create_model('resnet50', pretrained=False, num_classes=0, global_pool='')"
   ]
  },
  {
   "cell_type": "code",
   "execution_count": 3,
   "id": "048e5fa6-71ee-4d03-8a49-7fbb2a4a8d0a",
   "metadata": {},
   "outputs": [
    {
     "data": {
      "text/plain": [
       "2048"
      ]
     },
     "execution_count": 3,
     "metadata": {},
     "output_type": "execute_result"
    }
   ],
   "source": [
    "in_features = timm.create_model('resnet50', pretrained=False).get_classifier().in_features \n",
    "in_features"
   ]
  },
  {
   "cell_type": "code",
   "execution_count": 4,
   "id": "e05b7c9e-19d2-4a23-b5cb-04cb53f503bd",
   "metadata": {},
   "outputs": [],
   "source": [
    "# model"
   ]
  },
  {
   "cell_type": "code",
   "execution_count": 5,
   "id": "fb18fa7a-330d-4bb4-a681-97373517a7b7",
   "metadata": {},
   "outputs": [],
   "source": [
    "interlayer = Bottleneck(in_features, in_features//4)"
   ]
  },
  {
   "cell_type": "code",
   "execution_count": 6,
   "id": "3af1b812-8859-41b8-be44-7cd915f49290",
   "metadata": {},
   "outputs": [],
   "source": [
    "roipool = RoIPool(( 1,1), float(1/32)) # float(1/32), boxes is not normalized"
   ]
  },
  {
   "cell_type": "code",
   "execution_count": 7,
   "id": "a1bd0955-6440-4b8d-9d22-35677e425cb6",
   "metadata": {},
   "outputs": [],
   "source": [
    "intermdeiate_channels = in_features//4\n",
    "mlp = TwoMLPHead(in_features, intermdeiate_channels, num_classes)"
   ]
  },
  {
   "cell_type": "code",
   "execution_count": 13,
   "id": "2a45ffd0-878e-4993-8498-7cc4cafe9447",
   "metadata": {},
   "outputs": [],
   "source": [
    "x = torch.randn(2,3,2048, 2048)"
   ]
  },
  {
   "cell_type": "code",
   "execution_count": 14,
   "id": "d9fa3b26-e6f1-4b28-b3f6-31e3b6b3799b",
   "metadata": {},
   "outputs": [
    {
     "data": {
      "text/plain": [
       "torch.Size([2, 2048, 64, 64])"
      ]
     },
     "execution_count": 14,
     "metadata": {},
     "output_type": "execute_result"
    }
   ],
   "source": [
    "x = model(x)\n",
    "x.shape"
   ]
  },
  {
   "cell_type": "code",
   "execution_count": 15,
   "id": "df81b16c-ac46-44e2-b326-d9dc88458b58",
   "metadata": {},
   "outputs": [
    {
     "data": {
      "text/plain": [
       "torch.Size([2, 2048, 64, 64])"
      ]
     },
     "execution_count": 15,
     "metadata": {},
     "output_type": "execute_result"
    }
   ],
   "source": [
    "x = interlayer(x)\n",
    "x.shape"
   ]
  },
  {
   "cell_type": "code",
   "execution_count": 18,
   "id": "3e6ad96a-953c-402b-84e4-dea4e689952f",
   "metadata": {},
   "outputs": [
    {
     "name": "stdout",
     "output_type": "stream",
     "text": [
      "tensor([[  3., 100., 200., 200., 250.],\n",
      "        [  3., 130., 250., 200., 250.]])\n",
      "torch.Size([2, 5])\n"
     ]
    },
    {
     "data": {
      "text/plain": [
       "torch.Size([2, 2048, 1, 1])"
      ]
     },
     "execution_count": 18,
     "metadata": {},
     "output_type": "execute_result"
    }
   ],
   "source": [
    "bbox = torch.tensor([[3, 100.,200., 200., 250.], [3, 130.,250., 200., 250.]], dtype=torch.float32)\n",
    "print(bbox)\n",
    "print(bbox.shape)\n",
    "roi = roipool(x, bbox)\n",
    "roi.shape"
   ]
  },
  {
   "cell_type": "code",
   "execution_count": 19,
   "id": "73ab626a-ea0f-4e13-beb6-b47347ff68ea",
   "metadata": {},
   "outputs": [
    {
     "data": {
      "text/plain": [
       "torch.Size([2, 6])"
      ]
     },
     "execution_count": 19,
     "metadata": {},
     "output_type": "execute_result"
    }
   ],
   "source": [
    "out = mlp(roi)\n",
    "out.shape"
   ]
  },
  {
   "cell_type": "code",
   "execution_count": null,
   "id": "879e73e7-a7a7-4ccc-9d6e-f0f704cd9cc0",
   "metadata": {},
   "outputs": [],
   "source": []
  },
  {
   "cell_type": "code",
   "execution_count": 26,
   "id": "f892985f-fb29-4900-90b3-49c9092d43dc",
   "metadata": {},
   "outputs": [
    {
     "data": {
      "text/plain": [
       "torch.Size([2, 4])"
      ]
     },
     "execution_count": 26,
     "metadata": {},
     "output_type": "execute_result"
    }
   ],
   "source": [
    "bbox = torch.tensor([[ 100.,200., 200., 250.], [130.,250., 200., 250.]])\n",
    "bbox.shape"
   ]
  },
  {
   "cell_type": "code",
   "execution_count": 27,
   "id": "e39860db-a17b-41e9-a132-26ce185a8dd2",
   "metadata": {},
   "outputs": [
    {
     "data": {
      "text/plain": [
       "torch.Size([2, 1])"
      ]
     },
     "execution_count": 27,
     "metadata": {},
     "output_type": "execute_result"
    }
   ],
   "source": [
    "labels = torch.ones(len(bbox)).unsqueeze(dim=1)\n",
    "labels.shape"
   ]
  },
  {
   "cell_type": "code",
   "execution_count": 29,
   "id": "6edaa009-e91b-4dd7-8934-ca191d13b2b2",
   "metadata": {},
   "outputs": [
    {
     "data": {
      "text/plain": [
       "tensor([[  1., 100., 200., 200., 250.],\n",
       "        [  1., 130., 250., 200., 250.]])"
      ]
     },
     "execution_count": 29,
     "metadata": {},
     "output_type": "execute_result"
    }
   ],
   "source": [
    "torch.cat([labels, bbox ], dim=1)"
   ]
  },
  {
   "cell_type": "code",
   "execution_count": null,
   "id": "4fa2257b-03ae-47d7-8cb6-0073b170917d",
   "metadata": {},
   "outputs": [],
   "source": []
  }
 ],
 "metadata": {
  "kernelspec": {
   "display_name": "pytorch",
   "language": "python",
   "name": "pytorch"
  },
  "language_info": {
   "codemirror_mode": {
    "name": "ipython",
    "version": 3
   },
   "file_extension": ".py",
   "mimetype": "text/x-python",
   "name": "python",
   "nbconvert_exporter": "python",
   "pygments_lexer": "ipython3",
   "version": "3.7.9"
  }
 },
 "nbformat": 4,
 "nbformat_minor": 5
}

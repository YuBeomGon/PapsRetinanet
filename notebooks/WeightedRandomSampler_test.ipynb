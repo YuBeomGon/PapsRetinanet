{
 "cells": [
  {
   "cell_type": "code",
   "execution_count": null,
   "id": "758a3e81-7ef9-43b3-8faf-7b36b76e1c51",
   "metadata": {},
   "outputs": [],
   "source": []
  },
  {
   "cell_type": "code",
   "execution_count": 1,
   "id": "70cbd7be-81cf-4db8-ba36-2ec59b2d65e1",
   "metadata": {},
   "outputs": [],
   "source": [
    "# https://androidkt.com/deal-with-an-imbalanced-dataset-using-weightedrandomsampler-in-pytorch/\n",
    "# https://towardsdatascience.com/pytorch-basics-sampling-samplers-2a0f29f0bf2a"
   ]
  },
  {
   "cell_type": "code",
   "execution_count": 2,
   "id": "4c1db671-a1e1-4deb-aa6a-2bc84de1c8fa",
   "metadata": {},
   "outputs": [],
   "source": [
    "import numpy as np\n",
    "import pandas as pd\n",
    "import torch\n",
    "import torchvision\n",
    "import torch.nn as nn\n",
    "import torch.optim as optim\n",
    "import torch.nn.functional as F\n",
    "from torchvision import transforms, utils, datasets\n",
    "from torch.utils.data import Dataset, DataLoader, random_split, SubsetRandomSampler, WeightedRandomSampler, SequentialSampler, RandomSampler\n",
    "from sklearn.model_selection import train_test_split\n",
    "from collections import Counter"
   ]
  },
  {
   "cell_type": "code",
   "execution_count": 3,
   "id": "7742c12e-a4d5-48b5-9cb2-e7d59792235c",
   "metadata": {},
   "outputs": [
    {
     "data": {
      "text/html": [
       "<div>\n",
       "<style scoped>\n",
       "    .dataframe tbody tr th:only-of-type {\n",
       "        vertical-align: middle;\n",
       "    }\n",
       "\n",
       "    .dataframe tbody tr th {\n",
       "        vertical-align: top;\n",
       "    }\n",
       "\n",
       "    .dataframe thead th {\n",
       "        text-align: right;\n",
       "    }\n",
       "</style>\n",
       "<table border=\"1\" class=\"dataframe\">\n",
       "  <thead>\n",
       "    <tr style=\"text-align: right;\">\n",
       "      <th></th>\n",
       "      <th>file_name</th>\n",
       "      <th>task</th>\n",
       "      <th>label</th>\n",
       "      <th>xmin</th>\n",
       "      <th>ymin</th>\n",
       "      <th>w</th>\n",
       "      <th>h</th>\n",
       "      <th>occluded</th>\n",
       "      <th>des</th>\n",
       "      <th>cell_type</th>\n",
       "      <th>bbox</th>\n",
       "      <th>area</th>\n",
       "      <th>ratio</th>\n",
       "      <th>label_det</th>\n",
       "      <th>label_cls</th>\n",
       "      <th>label_hpv</th>\n",
       "    </tr>\n",
       "  </thead>\n",
       "  <tbody>\n",
       "    <tr>\n",
       "      <th>0</th>\n",
       "      <td>patch_images/2021.01.14/LBC424-20210111(1)/LBC...</td>\n",
       "      <td>[AS6] LBC424</td>\n",
       "      <td>AS</td>\n",
       "      <td>1337</td>\n",
       "      <td>102</td>\n",
       "      <td>256</td>\n",
       "      <td>136</td>\n",
       "      <td>0</td>\n",
       "      <td>NaN</td>\n",
       "      <td>ASC-US</td>\n",
       "      <td>[1337, 102, 256, 136]</td>\n",
       "      <td>186</td>\n",
       "      <td>1.371989</td>\n",
       "      <td>ASC-US</td>\n",
       "      <td>ASC-US</td>\n",
       "      <td>0</td>\n",
       "    </tr>\n",
       "    <tr>\n",
       "      <th>1</th>\n",
       "      <td>patch_images/2021.01.14/LBC424-20210111(1)/LBC...</td>\n",
       "      <td>[AS6] LBC424</td>\n",
       "      <td>AS</td>\n",
       "      <td>220</td>\n",
       "      <td>619</td>\n",
       "      <td>166</td>\n",
       "      <td>169</td>\n",
       "      <td>0</td>\n",
       "      <td>NaN</td>\n",
       "      <td>ASC-US</td>\n",
       "      <td>[220, 619, 166, 169]</td>\n",
       "      <td>167</td>\n",
       "      <td>0.991085</td>\n",
       "      <td>ASC-US</td>\n",
       "      <td>ASC-US</td>\n",
       "      <td>0</td>\n",
       "    </tr>\n",
       "    <tr>\n",
       "      <th>2</th>\n",
       "      <td>patch_images/2021.01.14/LBC424-20210111(1)/LBC...</td>\n",
       "      <td>[AS6] LBC424</td>\n",
       "      <td>AS</td>\n",
       "      <td>658</td>\n",
       "      <td>1747</td>\n",
       "      <td>191</td>\n",
       "      <td>166</td>\n",
       "      <td>0</td>\n",
       "      <td>NaN</td>\n",
       "      <td>ASC-US</td>\n",
       "      <td>[658, 1747, 191, 166]</td>\n",
       "      <td>178</td>\n",
       "      <td>1.072661</td>\n",
       "      <td>ASC-US</td>\n",
       "      <td>ASC-US</td>\n",
       "      <td>0</td>\n",
       "    </tr>\n",
       "    <tr>\n",
       "      <th>3</th>\n",
       "      <td>patch_images/2021.01.14/LBC424-20210111(1)/LBC...</td>\n",
       "      <td>[AS6] LBC424</td>\n",
       "      <td>AS</td>\n",
       "      <td>1571</td>\n",
       "      <td>365</td>\n",
       "      <td>136</td>\n",
       "      <td>146</td>\n",
       "      <td>0</td>\n",
       "      <td>NaN</td>\n",
       "      <td>ASC-US</td>\n",
       "      <td>[1571, 365, 136, 146]</td>\n",
       "      <td>140</td>\n",
       "      <td>0.965146</td>\n",
       "      <td>ASC-US</td>\n",
       "      <td>ASC-US</td>\n",
       "      <td>0</td>\n",
       "    </tr>\n",
       "    <tr>\n",
       "      <th>4</th>\n",
       "      <td>patch_images/2021.01.14/LBC424-20210111(1)/LBC...</td>\n",
       "      <td>[AS6] LBC424</td>\n",
       "      <td>AS</td>\n",
       "      <td>1044</td>\n",
       "      <td>1698</td>\n",
       "      <td>258</td>\n",
       "      <td>204</td>\n",
       "      <td>0</td>\n",
       "      <td>NaN</td>\n",
       "      <td>ASC-US</td>\n",
       "      <td>[1044, 1698, 258, 204]</td>\n",
       "      <td>229</td>\n",
       "      <td>1.124591</td>\n",
       "      <td>ASC-US</td>\n",
       "      <td>ASC-US</td>\n",
       "      <td>0</td>\n",
       "    </tr>\n",
       "  </tbody>\n",
       "</table>\n",
       "</div>"
      ],
      "text/plain": [
       "                                           file_name          task label  \\\n",
       "0  patch_images/2021.01.14/LBC424-20210111(1)/LBC...  [AS6] LBC424    AS   \n",
       "1  patch_images/2021.01.14/LBC424-20210111(1)/LBC...  [AS6] LBC424    AS   \n",
       "2  patch_images/2021.01.14/LBC424-20210111(1)/LBC...  [AS6] LBC424    AS   \n",
       "3  patch_images/2021.01.14/LBC424-20210111(1)/LBC...  [AS6] LBC424    AS   \n",
       "4  patch_images/2021.01.14/LBC424-20210111(1)/LBC...  [AS6] LBC424    AS   \n",
       "\n",
       "   xmin  ymin    w    h  occluded  des cell_type                    bbox  \\\n",
       "0  1337   102  256  136         0  NaN    ASC-US   [1337, 102, 256, 136]   \n",
       "1   220   619  166  169         0  NaN    ASC-US    [220, 619, 166, 169]   \n",
       "2   658  1747  191  166         0  NaN    ASC-US   [658, 1747, 191, 166]   \n",
       "3  1571   365  136  146         0  NaN    ASC-US   [1571, 365, 136, 146]   \n",
       "4  1044  1698  258  204         0  NaN    ASC-US  [1044, 1698, 258, 204]   \n",
       "\n",
       "   area     ratio label_det label_cls  label_hpv  \n",
       "0   186  1.371989    ASC-US    ASC-US          0  \n",
       "1   167  0.991085    ASC-US    ASC-US          0  \n",
       "2   178  1.072661    ASC-US    ASC-US          0  \n",
       "3   140  0.965146    ASC-US    ASC-US          0  \n",
       "4   229  1.124591    ASC-US    ASC-US          0  "
      ]
     },
     "execution_count": 3,
     "metadata": {},
     "output_type": "execute_result"
    }
   ],
   "source": [
    "train = pd.read_csv('../lbp_data/train.csv')\n",
    "train.head()\n"
   ]
  },
  {
   "cell_type": "code",
   "execution_count": 4,
   "id": "de838722-fac3-4321-9523-7c448ae823a9",
   "metadata": {},
   "outputs": [
    {
     "data": {
      "text/plain": [
       "[0, 1, 2, 3, 4, 5, 6, 7, 8, 9]"
      ]
     },
     "execution_count": 4,
     "metadata": {},
     "output_type": "execute_result"
    }
   ],
   "source": [
    "[ idx for idx in SequentialSampler(train.file_name.values)][:10]"
   ]
  },
  {
   "cell_type": "code",
   "execution_count": 5,
   "id": "f0fcce43-048d-4f55-a251-9347aa013681",
   "metadata": {},
   "outputs": [
    {
     "data": {
      "text/plain": [
       "[6397, 876, 4478, 17591, 2392, 8167, 11759, 15616, 14565, 8136]"
      ]
     },
     "execution_count": 5,
     "metadata": {},
     "output_type": "execute_result"
    }
   ],
   "source": [
    "[ idx for idx in RandomSampler(train.file_name.values)][:10]"
   ]
  },
  {
   "cell_type": "code",
   "execution_count": 6,
   "id": "3a252366-3b0b-4de5-8767-957d2d66c1ff",
   "metadata": {},
   "outputs": [],
   "source": [
    "numSample=1000\n",
    "batch_size=100\n",
    "\n",
    "sample=torch.FloatTensor(numSample,10)\n",
    "\n",
    "\n",
    "zero=np.zeros(int(numSample * 0.8),dtype=np.int32)\n",
    "one=np.ones(int(numSample * 0.2),dtype=np.int32)\n",
    "\n",
    "target=np.hstack((zero,one))\n",
    "\n",
    "dataset=sample.numpy()\n",
    "\n",
    "#split dataset into tran and test set\n",
    "x_train,x_test,y_train,y_test= train_test_split(dataset,\n",
    "                                                target,\n",
    "                                                test_size=0.25,\n",
    "                                                random_state=42,\n",
    "                                                stratify=target,\n",
    "                                                shuffle=True)"
   ]
  },
  {
   "cell_type": "code",
   "execution_count": 7,
   "id": "3ff0cdd0-dbb4-469c-ba76-52babb30f4e9",
   "metadata": {},
   "outputs": [],
   "source": [
    "count=Counter(y_train)"
   ]
  },
  {
   "cell_type": "code",
   "execution_count": 8,
   "id": "43ba18fa-eed2-4412-9827-6e1ae2760968",
   "metadata": {},
   "outputs": [
    {
     "data": {
      "text/plain": [
       "Counter({1: 150, 0: 600})"
      ]
     },
     "execution_count": 8,
     "metadata": {},
     "output_type": "execute_result"
    }
   ],
   "source": [
    "count"
   ]
  },
  {
   "cell_type": "code",
   "execution_count": 9,
   "id": "9f87dace-de4d-4ca3-bb70-cd81352c7923",
   "metadata": {},
   "outputs": [
    {
     "data": {
      "text/plain": [
       "array([600, 150])"
      ]
     },
     "execution_count": 9,
     "metadata": {},
     "output_type": "execute_result"
    }
   ],
   "source": [
    "class_count=np.array([count[0],count[1]])\n",
    "class_count"
   ]
  },
  {
   "cell_type": "code",
   "execution_count": 10,
   "id": "03b3b0fe-6658-48c7-80f7-14653850339f",
   "metadata": {},
   "outputs": [
    {
     "data": {
      "text/plain": [
       "array([0.00166667, 0.00666667])"
      ]
     },
     "execution_count": 10,
     "metadata": {},
     "output_type": "execute_result"
    }
   ],
   "source": [
    "weight=1./class_count\n",
    "weight"
   ]
  },
  {
   "cell_type": "code",
   "execution_count": 11,
   "id": "6f1ddee6-b7fe-4a1e-9ed3-3b164882bc00",
   "metadata": {},
   "outputs": [],
   "source": [
    "samples_weight = np.array([weight[t] for t in y_train])\n",
    "samples_weight=torch.from_numpy(samples_weight)\n",
    "# samples_weight"
   ]
  },
  {
   "cell_type": "code",
   "execution_count": 12,
   "id": "138450ed-4517-45dc-99f4-1049bed31ecb",
   "metadata": {},
   "outputs": [],
   "source": [
    "sampler = WeightedRandomSampler(samples_weight, len(samples_weight))"
   ]
  },
  {
   "cell_type": "code",
   "execution_count": 13,
   "id": "6449af67-0f41-457e-ba45-3638e1969dad",
   "metadata": {},
   "outputs": [],
   "source": [
    "trainDataset = torch.utils.data.TensorDataset(torch.FloatTensor(x_train), torch.LongTensor(y_train.astype(int)))\n",
    "validDataset = torch.utils.data.TensorDataset(torch.FloatTensor(x_test), torch.LongTensor(y_test.astype(int)))\n",
    "\n",
    "\n",
    "trainLoader = torch.utils.data.DataLoader(dataset = trainDataset, batch_size=batch_size, num_workers=1, sampler = sampler)\n",
    "testLoader = torch.utils.data.DataLoader(dataset = validDataset, batch_size=batch_size, shuffle=False, num_workers=1)"
   ]
  },
  {
   "cell_type": "code",
   "execution_count": 14,
   "id": "e0a833d3-9b72-47e9-bfb2-d340f837ed99",
   "metadata": {},
   "outputs": [
    {
     "name": "stdout",
     "output_type": "stream",
     "text": [
      "batch 0 0/1 43 57\n",
      "batch 1 0/1 52 48\n",
      "batch 2 0/1 47 53\n",
      "batch 3 0/1 56 44\n",
      "batch 4 0/1 45 55\n",
      "batch 5 0/1 49 51\n",
      "batch 6 0/1 54 46\n",
      "batch 7 0/1 19 31\n"
     ]
    }
   ],
   "source": [
    "for i, (data, target) in enumerate(trainLoader) :\n",
    "    count=Counter(target.numpy())\n",
    "    print('batch {} 0/1 {} {}'.format(i, count[0], count[1]))"
   ]
  },
  {
   "cell_type": "code",
   "execution_count": null,
   "id": "fe66bf1b-6931-4d98-a43d-67331feb1927",
   "metadata": {},
   "outputs": [],
   "source": []
  },
  {
   "cell_type": "code",
   "execution_count": null,
   "id": "f1407964-f193-44d2-979e-69a23abaffbb",
   "metadata": {},
   "outputs": [],
   "source": []
  },
  {
   "cell_type": "code",
   "execution_count": 15,
   "id": "cf28adf9-4de8-4592-b273-ba2fd345d083",
   "metadata": {},
   "outputs": [],
   "source": [
    "# https://towardsdatascience.com/pytorch-basics-sampling-samplers-2a0f29f0bf2a"
   ]
  },
  {
   "cell_type": "code",
   "execution_count": 16,
   "id": "1600152a-bf13-4632-8f15-487db7ac1914",
   "metadata": {},
   "outputs": [
    {
     "data": {
      "text/plain": [
       "<torch._C.Generator at 0x7fa624b8f8f0>"
      ]
     },
     "execution_count": 16,
     "metadata": {},
     "output_type": "execute_result"
    }
   ],
   "source": [
    "np.random.seed(0)\n",
    "torch.manual_seed(0)"
   ]
  },
  {
   "cell_type": "code",
   "execution_count": 17,
   "id": "73f378e5-df58-4014-abed-535c0c573ac4",
   "metadata": {},
   "outputs": [],
   "source": [
    "%matplotlib inline\n",
    "import seaborn as sns\n",
    "sns.set_style('darkgrid')"
   ]
  },
  {
   "cell_type": "code",
   "execution_count": 18,
   "id": "ea5526c4-d408-4194-8d8b-085d0c3a8a46",
   "metadata": {},
   "outputs": [],
   "source": [
    "import sys\n",
    "sys.path.append('../')\n",
    "from utils.dataset import *"
   ]
  },
  {
   "cell_type": "code",
   "execution_count": 19,
   "id": "5c17d876-69a0-422f-89b8-32210ff1f9fd",
   "metadata": {},
   "outputs": [],
   "source": [
    "train = pd.read_csv('../lbp_data/train.csv')"
   ]
  },
  {
   "cell_type": "code",
   "execution_count": 20,
   "id": "4406d02b-2403-48cc-8586-9afdc3139b42",
   "metadata": {},
   "outputs": [],
   "source": [
    "# train_dataset = PapsClsDataset(train)"
   ]
  },
  {
   "cell_type": "code",
   "execution_count": 21,
   "id": "d5594751-2053-46ae-a828-20404b3750fb",
   "metadata": {},
   "outputs": [],
   "source": [
    "# [ idx for idx in SequentialSampler(train_dataset)][:10]"
   ]
  },
  {
   "cell_type": "code",
   "execution_count": 22,
   "id": "74223ecf-8757-4e78-bda8-eedff2224d0d",
   "metadata": {},
   "outputs": [],
   "source": [
    "# [ idx for idx in RandomSampler(train_dataset)][:10]"
   ]
  },
  {
   "cell_type": "code",
   "execution_count": 23,
   "id": "bcf2d091-45b6-46b0-82ea-d964d3845253",
   "metadata": {},
   "outputs": [
    {
     "data": {
      "text/plain": [
       "0           ASC-US\n",
       "1           ASC-US\n",
       "2           ASC-US\n",
       "3           ASC-US\n",
       "4           ASC-US\n",
       "           ...    \n",
       "17823    Carcinoma\n",
       "17824    Carcinoma\n",
       "17825    Carcinoma\n",
       "17826    Carcinoma\n",
       "17827    Carcinoma\n",
       "Name: label_cls, Length: 17828, dtype: object"
      ]
     },
     "execution_count": 23,
     "metadata": {},
     "output_type": "execute_result"
    }
   ],
   "source": [
    "train.label_cls"
   ]
  },
  {
   "cell_type": "code",
   "execution_count": 24,
   "id": "6fb72050-43fb-4661-b957-f6b62564c00b",
   "metadata": {},
   "outputs": [
    {
     "data": {
      "text/plain": [
       "Counter({'ASC-US': 8523,\n",
       "         'LSIL': 4066,\n",
       "         'Carcinoma': 502,\n",
       "         'ASC-H': 892,\n",
       "         'HSIL': 1103,\n",
       "         'Negative': 2742})"
      ]
     },
     "execution_count": 24,
     "metadata": {},
     "output_type": "execute_result"
    }
   ],
   "source": [
    "count=Counter(train.label_cls)\n",
    "count"
   ]
  },
  {
   "cell_type": "code",
   "execution_count": 25,
   "id": "73c4dcf2-e254-4ad2-bdbe-338661f32d4c",
   "metadata": {},
   "outputs": [
    {
     "data": {
      "text/plain": [
       "array([8523, 4066,  502,  892, 1103, 2742])"
      ]
     },
     "execution_count": 25,
     "metadata": {},
     "output_type": "execute_result"
    }
   ],
   "source": [
    "class_count=np.array([count['ASC-US'],count['LSIL'], count['Carcinoma'],count['ASC-H'], count['HSIL'],count['Negative']])\n",
    "class_count"
   ]
  },
  {
   "cell_type": "code",
   "execution_count": 26,
   "id": "90cf5f73-5210-49c6-9cbe-7da3a3866e69",
   "metadata": {},
   "outputs": [
    {
     "data": {
      "text/plain": [
       "Counter({0: 8523, 1: 4066, 4: 502, 3: 892, 2: 1103, 5: 2742})"
      ]
     },
     "execution_count": 26,
     "metadata": {},
     "output_type": "execute_result"
    }
   ],
   "source": [
    "train.label_cls = train.label_cls.apply(lambda x : label_id(x))\n",
    "count=Counter(train.label_cls)\n",
    "count"
   ]
  },
  {
   "cell_type": "code",
   "execution_count": 27,
   "id": "a21ca1ba-72bd-429f-abaa-1c92d759adde",
   "metadata": {},
   "outputs": [
    {
     "data": {
      "text/plain": [
       "array([8523, 4066, 1103,  892,  502, 2742])"
      ]
     },
     "execution_count": 27,
     "metadata": {},
     "output_type": "execute_result"
    }
   ],
   "source": [
    "class_count=np.array([count[0],count[1], count[2],count[3], count[4],count[5]])\n",
    "class_count"
   ]
  },
  {
   "cell_type": "code",
   "execution_count": 28,
   "id": "d2e2accc-43a3-4d17-9436-dd4dd9b19772",
   "metadata": {},
   "outputs": [
    {
     "data": {
      "text/plain": [
       "array([0.00011733, 0.00024594, 0.00090662, 0.00112108, 0.00199203,\n",
       "       0.0003647 ])"
      ]
     },
     "execution_count": 28,
     "metadata": {},
     "output_type": "execute_result"
    }
   ],
   "source": [
    "weight=1./class_count\n",
    "weight"
   ]
  },
  {
   "cell_type": "code",
   "execution_count": 29,
   "id": "b999db05-ab89-4acf-840f-f9a8cc0f093d",
   "metadata": {},
   "outputs": [],
   "source": [
    "samples_weight = np.array([weight[t] for t in train.label_cls])\n",
    "samples_weight=torch.from_numpy(samples_weight)"
   ]
  },
  {
   "cell_type": "code",
   "execution_count": 30,
   "id": "e418cec9-ccd5-4be3-96e3-dbf2347a6385",
   "metadata": {},
   "outputs": [
    {
     "data": {
      "text/plain": [
       "tensor([0.0001, 0.0001, 0.0001,  ..., 0.0020, 0.0020, 0.0020],\n",
       "       dtype=torch.float64)"
      ]
     },
     "execution_count": 30,
     "metadata": {},
     "output_type": "execute_result"
    }
   ],
   "source": [
    "samples_weight"
   ]
  },
  {
   "cell_type": "code",
   "execution_count": 31,
   "id": "a507bd54-921a-4acb-8c96-898c78d9cb4d",
   "metadata": {},
   "outputs": [],
   "source": [
    "sampler = WeightedRandomSampler(samples_weight, len(samples_weight))"
   ]
  },
  {
   "cell_type": "code",
   "execution_count": 38,
   "id": "fe4b7df3-1b2e-4442-adb1-e38b43b9334f",
   "metadata": {},
   "outputs": [
    {
     "name": "stdout",
     "output_type": "stream",
     "text": [
      "(17828, 16)\n"
     ]
    }
   ],
   "source": [
    "train = pd.read_csv('../lbp_data/train.csv')\n",
    "train_dataset = PapsClsDataset(train, transform=train_transforms)"
   ]
  },
  {
   "cell_type": "code",
   "execution_count": 39,
   "id": "eaae9895-3552-402d-b9b3-0dfad1c5bfee",
   "metadata": {},
   "outputs": [
    {
     "data": {
      "text/plain": [
       "0    8523\n",
       "1    4066\n",
       "5    2742\n",
       "2    1103\n",
       "3     892\n",
       "4     502\n",
       "Name: label_cls, dtype: int64"
      ]
     },
     "execution_count": 39,
     "metadata": {},
     "output_type": "execute_result"
    }
   ],
   "source": [
    "train_dataset.df.label_cls.value_counts()"
   ]
  },
  {
   "cell_type": "code",
   "execution_count": 40,
   "id": "469d24f4-13c4-4c15-80b8-7f934f8ca954",
   "metadata": {},
   "outputs": [],
   "source": [
    "trainLoader = torch.utils.data.DataLoader(train_dataset, batch_size=32, num_workers=4, sampler = sampler)"
   ]
  },
  {
   "cell_type": "code",
   "execution_count": 41,
   "id": "d2fce60d-771e-4169-bb6b-16cde5967d2c",
   "metadata": {},
   "outputs": [],
   "source": [
    "images, bbox, labels = next(iter(trainLoader))"
   ]
  },
  {
   "cell_type": "code",
   "execution_count": 42,
   "id": "73b6bfda-86bf-467b-bc8e-87f22eb65cbe",
   "metadata": {},
   "outputs": [
    {
     "name": "stdout",
     "output_type": "stream",
     "text": [
      "[tensor([5, 0, 0, 3, 1, 0, 2, 1, 5, 0, 3, 1, 0, 0, 0, 0, 2, 0, 0, 0, 0, 0, 0, 0,\n",
      "        1, 1, 1, 0, 5, 3, 0, 0])]\n"
     ]
    }
   ],
   "source": [
    "print(labels)"
   ]
  },
  {
   "cell_type": "code",
   "execution_count": 46,
   "id": "ae8c77dd-1bbf-42d0-8386-072661b73759",
   "metadata": {},
   "outputs": [
    {
     "name": "stdout",
     "output_type": "stream",
     "text": [
      "Counter({0: 13, 1: 9, 5: 7, 2: 2, 3: 1})\n",
      "Counter({0: 17, 1: 9, 2: 4, 3: 1, 5: 1})\n",
      "Counter({0: 12, 1: 9, 5: 6, 3: 3, 2: 2})\n",
      "Counter({0: 17, 1: 8, 5: 4, 2: 2, 3: 1})\n",
      "Counter({0: 15, 1: 7, 5: 5, 2: 4, 3: 1})\n",
      "Counter({1: 12, 0: 9, 5: 8, 4: 2, 2: 1})\n",
      "Counter({0: 18, 5: 8, 1: 5, 2: 1})\n",
      "Counter({0: 14, 1: 10, 5: 3, 3: 3, 2: 2})\n",
      "Counter({0: 13, 5: 9, 3: 6, 1: 2, 2: 1, 4: 1})\n",
      "Counter({0: 19, 5: 6, 1: 3, 3: 2, 4: 1, 2: 1})\n",
      "Counter({0: 12, 5: 8, 1: 8, 2: 2, 3: 2})\n",
      "Counter({0: 20, 1: 6, 5: 4, 2: 2})\n",
      "Counter({0: 18, 1: 6, 5: 4, 3: 3, 2: 1})\n",
      "Counter({1: 13, 0: 8, 5: 5, 3: 3, 2: 2, 4: 1})\n",
      "Counter({0: 16, 2: 4, 3: 4, 1: 4, 5: 3, 4: 1})\n",
      "Counter({0: 19, 1: 4, 3: 3, 5: 3, 4: 2, 2: 1})\n"
     ]
    },
    {
     "ename": "KeyboardInterrupt",
     "evalue": "",
     "output_type": "error",
     "traceback": [
      "\u001b[0;31m---------------------------------------------------------------------------\u001b[0m",
      "\u001b[0;31mKeyboardInterrupt\u001b[0m                         Traceback (most recent call last)",
      "\u001b[0;32m/tmp/ipykernel_20152/4030577595.py\u001b[0m in \u001b[0;36m<module>\u001b[0;34m\u001b[0m\n\u001b[0;32m----> 1\u001b[0;31m \u001b[0;32mfor\u001b[0m \u001b[0mi\u001b[0m\u001b[0;34m,\u001b[0m \u001b[0;34m(\u001b[0m\u001b[0mdata\u001b[0m\u001b[0;34m,\u001b[0m \u001b[0mbbox\u001b[0m\u001b[0;34m,\u001b[0m \u001b[0mtarget\u001b[0m\u001b[0;34m)\u001b[0m \u001b[0;32min\u001b[0m \u001b[0menumerate\u001b[0m\u001b[0;34m(\u001b[0m\u001b[0mtrainLoader\u001b[0m\u001b[0;34m)\u001b[0m \u001b[0;34m:\u001b[0m\u001b[0;34m\u001b[0m\u001b[0;34m\u001b[0m\u001b[0m\n\u001b[0m\u001b[1;32m      2\u001b[0m     \u001b[0mcount\u001b[0m\u001b[0;34m=\u001b[0m\u001b[0mCounter\u001b[0m\u001b[0;34m(\u001b[0m\u001b[0mtarget\u001b[0m\u001b[0;34m[\u001b[0m\u001b[0;36m0\u001b[0m\u001b[0;34m]\u001b[0m\u001b[0;34m.\u001b[0m\u001b[0mnumpy\u001b[0m\u001b[0;34m(\u001b[0m\u001b[0;34m)\u001b[0m\u001b[0;34m)\u001b[0m\u001b[0;34m\u001b[0m\u001b[0;34m\u001b[0m\u001b[0m\n\u001b[1;32m      3\u001b[0m     \u001b[0mprint\u001b[0m\u001b[0;34m(\u001b[0m\u001b[0mcount\u001b[0m\u001b[0;34m)\u001b[0m\u001b[0;34m\u001b[0m\u001b[0;34m\u001b[0m\u001b[0m\n",
      "\u001b[0;32m~/anaconda3/envs/pytorch/lib/python3.7/site-packages/torch/utils/data/dataloader.py\u001b[0m in \u001b[0;36m__next__\u001b[0;34m(self)\u001b[0m\n\u001b[1;32m    519\u001b[0m             \u001b[0;32mif\u001b[0m \u001b[0mself\u001b[0m\u001b[0;34m.\u001b[0m\u001b[0m_sampler_iter\u001b[0m \u001b[0;32mis\u001b[0m \u001b[0;32mNone\u001b[0m\u001b[0;34m:\u001b[0m\u001b[0;34m\u001b[0m\u001b[0;34m\u001b[0m\u001b[0m\n\u001b[1;32m    520\u001b[0m                 \u001b[0mself\u001b[0m\u001b[0;34m.\u001b[0m\u001b[0m_reset\u001b[0m\u001b[0;34m(\u001b[0m\u001b[0;34m)\u001b[0m\u001b[0;34m\u001b[0m\u001b[0;34m\u001b[0m\u001b[0m\n\u001b[0;32m--> 521\u001b[0;31m             \u001b[0mdata\u001b[0m \u001b[0;34m=\u001b[0m \u001b[0mself\u001b[0m\u001b[0;34m.\u001b[0m\u001b[0m_next_data\u001b[0m\u001b[0;34m(\u001b[0m\u001b[0;34m)\u001b[0m\u001b[0;34m\u001b[0m\u001b[0;34m\u001b[0m\u001b[0m\n\u001b[0m\u001b[1;32m    522\u001b[0m             \u001b[0mself\u001b[0m\u001b[0;34m.\u001b[0m\u001b[0m_num_yielded\u001b[0m \u001b[0;34m+=\u001b[0m \u001b[0;36m1\u001b[0m\u001b[0;34m\u001b[0m\u001b[0;34m\u001b[0m\u001b[0m\n\u001b[1;32m    523\u001b[0m             \u001b[0;32mif\u001b[0m \u001b[0mself\u001b[0m\u001b[0;34m.\u001b[0m\u001b[0m_dataset_kind\u001b[0m \u001b[0;34m==\u001b[0m \u001b[0m_DatasetKind\u001b[0m\u001b[0;34m.\u001b[0m\u001b[0mIterable\u001b[0m \u001b[0;32mand\u001b[0m\u001b[0;31m \u001b[0m\u001b[0;31m\\\u001b[0m\u001b[0;34m\u001b[0m\u001b[0;34m\u001b[0m\u001b[0m\n",
      "\u001b[0;32m~/anaconda3/envs/pytorch/lib/python3.7/site-packages/torch/utils/data/dataloader.py\u001b[0m in \u001b[0;36m_next_data\u001b[0;34m(self)\u001b[0m\n\u001b[1;32m   1184\u001b[0m \u001b[0;34m\u001b[0m\u001b[0m\n\u001b[1;32m   1185\u001b[0m             \u001b[0;32massert\u001b[0m \u001b[0;32mnot\u001b[0m \u001b[0mself\u001b[0m\u001b[0;34m.\u001b[0m\u001b[0m_shutdown\u001b[0m \u001b[0;32mand\u001b[0m \u001b[0mself\u001b[0m\u001b[0;34m.\u001b[0m\u001b[0m_tasks_outstanding\u001b[0m \u001b[0;34m>\u001b[0m \u001b[0;36m0\u001b[0m\u001b[0;34m\u001b[0m\u001b[0;34m\u001b[0m\u001b[0m\n\u001b[0;32m-> 1186\u001b[0;31m             \u001b[0midx\u001b[0m\u001b[0;34m,\u001b[0m \u001b[0mdata\u001b[0m \u001b[0;34m=\u001b[0m \u001b[0mself\u001b[0m\u001b[0;34m.\u001b[0m\u001b[0m_get_data\u001b[0m\u001b[0;34m(\u001b[0m\u001b[0;34m)\u001b[0m\u001b[0;34m\u001b[0m\u001b[0;34m\u001b[0m\u001b[0m\n\u001b[0m\u001b[1;32m   1187\u001b[0m             \u001b[0mself\u001b[0m\u001b[0;34m.\u001b[0m\u001b[0m_tasks_outstanding\u001b[0m \u001b[0;34m-=\u001b[0m \u001b[0;36m1\u001b[0m\u001b[0;34m\u001b[0m\u001b[0;34m\u001b[0m\u001b[0m\n\u001b[1;32m   1188\u001b[0m             \u001b[0;32mif\u001b[0m \u001b[0mself\u001b[0m\u001b[0;34m.\u001b[0m\u001b[0m_dataset_kind\u001b[0m \u001b[0;34m==\u001b[0m \u001b[0m_DatasetKind\u001b[0m\u001b[0;34m.\u001b[0m\u001b[0mIterable\u001b[0m\u001b[0;34m:\u001b[0m\u001b[0;34m\u001b[0m\u001b[0;34m\u001b[0m\u001b[0m\n",
      "\u001b[0;32m~/anaconda3/envs/pytorch/lib/python3.7/site-packages/torch/utils/data/dataloader.py\u001b[0m in \u001b[0;36m_get_data\u001b[0;34m(self)\u001b[0m\n\u001b[1;32m   1150\u001b[0m         \u001b[0;32melse\u001b[0m\u001b[0;34m:\u001b[0m\u001b[0;34m\u001b[0m\u001b[0;34m\u001b[0m\u001b[0m\n\u001b[1;32m   1151\u001b[0m             \u001b[0;32mwhile\u001b[0m \u001b[0;32mTrue\u001b[0m\u001b[0;34m:\u001b[0m\u001b[0;34m\u001b[0m\u001b[0;34m\u001b[0m\u001b[0m\n\u001b[0;32m-> 1152\u001b[0;31m                 \u001b[0msuccess\u001b[0m\u001b[0;34m,\u001b[0m \u001b[0mdata\u001b[0m \u001b[0;34m=\u001b[0m \u001b[0mself\u001b[0m\u001b[0;34m.\u001b[0m\u001b[0m_try_get_data\u001b[0m\u001b[0;34m(\u001b[0m\u001b[0;34m)\u001b[0m\u001b[0;34m\u001b[0m\u001b[0;34m\u001b[0m\u001b[0m\n\u001b[0m\u001b[1;32m   1153\u001b[0m                 \u001b[0;32mif\u001b[0m \u001b[0msuccess\u001b[0m\u001b[0;34m:\u001b[0m\u001b[0;34m\u001b[0m\u001b[0;34m\u001b[0m\u001b[0m\n\u001b[1;32m   1154\u001b[0m                     \u001b[0;32mreturn\u001b[0m \u001b[0mdata\u001b[0m\u001b[0;34m\u001b[0m\u001b[0;34m\u001b[0m\u001b[0m\n",
      "\u001b[0;32m~/anaconda3/envs/pytorch/lib/python3.7/site-packages/torch/utils/data/dataloader.py\u001b[0m in \u001b[0;36m_try_get_data\u001b[0;34m(self, timeout)\u001b[0m\n\u001b[1;32m    988\u001b[0m         \u001b[0;31m#   (bool: whether successfully get data, any: data if successful else None)\u001b[0m\u001b[0;34m\u001b[0m\u001b[0;34m\u001b[0m\u001b[0;34m\u001b[0m\u001b[0m\n\u001b[1;32m    989\u001b[0m         \u001b[0;32mtry\u001b[0m\u001b[0;34m:\u001b[0m\u001b[0;34m\u001b[0m\u001b[0;34m\u001b[0m\u001b[0m\n\u001b[0;32m--> 990\u001b[0;31m             \u001b[0mdata\u001b[0m \u001b[0;34m=\u001b[0m \u001b[0mself\u001b[0m\u001b[0;34m.\u001b[0m\u001b[0m_data_queue\u001b[0m\u001b[0;34m.\u001b[0m\u001b[0mget\u001b[0m\u001b[0;34m(\u001b[0m\u001b[0mtimeout\u001b[0m\u001b[0;34m=\u001b[0m\u001b[0mtimeout\u001b[0m\u001b[0;34m)\u001b[0m\u001b[0;34m\u001b[0m\u001b[0;34m\u001b[0m\u001b[0m\n\u001b[0m\u001b[1;32m    991\u001b[0m             \u001b[0;32mreturn\u001b[0m \u001b[0;34m(\u001b[0m\u001b[0;32mTrue\u001b[0m\u001b[0;34m,\u001b[0m \u001b[0mdata\u001b[0m\u001b[0;34m)\u001b[0m\u001b[0;34m\u001b[0m\u001b[0;34m\u001b[0m\u001b[0m\n\u001b[1;32m    992\u001b[0m         \u001b[0;32mexcept\u001b[0m \u001b[0mException\u001b[0m \u001b[0;32mas\u001b[0m \u001b[0me\u001b[0m\u001b[0;34m:\u001b[0m\u001b[0;34m\u001b[0m\u001b[0;34m\u001b[0m\u001b[0m\n",
      "\u001b[0;32m~/anaconda3/envs/pytorch/lib/python3.7/multiprocessing/queues.py\u001b[0m in \u001b[0;36mget\u001b[0;34m(self, block, timeout)\u001b[0m\n\u001b[1;32m    102\u001b[0m                 \u001b[0;32mif\u001b[0m \u001b[0mblock\u001b[0m\u001b[0;34m:\u001b[0m\u001b[0;34m\u001b[0m\u001b[0;34m\u001b[0m\u001b[0m\n\u001b[1;32m    103\u001b[0m                     \u001b[0mtimeout\u001b[0m \u001b[0;34m=\u001b[0m \u001b[0mdeadline\u001b[0m \u001b[0;34m-\u001b[0m \u001b[0mtime\u001b[0m\u001b[0;34m.\u001b[0m\u001b[0mmonotonic\u001b[0m\u001b[0;34m(\u001b[0m\u001b[0;34m)\u001b[0m\u001b[0;34m\u001b[0m\u001b[0;34m\u001b[0m\u001b[0m\n\u001b[0;32m--> 104\u001b[0;31m                     \u001b[0;32mif\u001b[0m \u001b[0;32mnot\u001b[0m \u001b[0mself\u001b[0m\u001b[0;34m.\u001b[0m\u001b[0m_poll\u001b[0m\u001b[0;34m(\u001b[0m\u001b[0mtimeout\u001b[0m\u001b[0;34m)\u001b[0m\u001b[0;34m:\u001b[0m\u001b[0;34m\u001b[0m\u001b[0;34m\u001b[0m\u001b[0m\n\u001b[0m\u001b[1;32m    105\u001b[0m                         \u001b[0;32mraise\u001b[0m \u001b[0mEmpty\u001b[0m\u001b[0;34m\u001b[0m\u001b[0;34m\u001b[0m\u001b[0m\n\u001b[1;32m    106\u001b[0m                 \u001b[0;32melif\u001b[0m \u001b[0;32mnot\u001b[0m \u001b[0mself\u001b[0m\u001b[0;34m.\u001b[0m\u001b[0m_poll\u001b[0m\u001b[0;34m(\u001b[0m\u001b[0;34m)\u001b[0m\u001b[0;34m:\u001b[0m\u001b[0;34m\u001b[0m\u001b[0;34m\u001b[0m\u001b[0m\n",
      "\u001b[0;32m~/anaconda3/envs/pytorch/lib/python3.7/multiprocessing/connection.py\u001b[0m in \u001b[0;36mpoll\u001b[0;34m(self, timeout)\u001b[0m\n\u001b[1;32m    255\u001b[0m         \u001b[0mself\u001b[0m\u001b[0;34m.\u001b[0m\u001b[0m_check_closed\u001b[0m\u001b[0;34m(\u001b[0m\u001b[0;34m)\u001b[0m\u001b[0;34m\u001b[0m\u001b[0;34m\u001b[0m\u001b[0m\n\u001b[1;32m    256\u001b[0m         \u001b[0mself\u001b[0m\u001b[0;34m.\u001b[0m\u001b[0m_check_readable\u001b[0m\u001b[0;34m(\u001b[0m\u001b[0;34m)\u001b[0m\u001b[0;34m\u001b[0m\u001b[0;34m\u001b[0m\u001b[0m\n\u001b[0;32m--> 257\u001b[0;31m         \u001b[0;32mreturn\u001b[0m \u001b[0mself\u001b[0m\u001b[0;34m.\u001b[0m\u001b[0m_poll\u001b[0m\u001b[0;34m(\u001b[0m\u001b[0mtimeout\u001b[0m\u001b[0;34m)\u001b[0m\u001b[0;34m\u001b[0m\u001b[0;34m\u001b[0m\u001b[0m\n\u001b[0m\u001b[1;32m    258\u001b[0m \u001b[0;34m\u001b[0m\u001b[0m\n\u001b[1;32m    259\u001b[0m     \u001b[0;32mdef\u001b[0m \u001b[0m__enter__\u001b[0m\u001b[0;34m(\u001b[0m\u001b[0mself\u001b[0m\u001b[0;34m)\u001b[0m\u001b[0;34m:\u001b[0m\u001b[0;34m\u001b[0m\u001b[0;34m\u001b[0m\u001b[0m\n",
      "\u001b[0;32m~/anaconda3/envs/pytorch/lib/python3.7/multiprocessing/connection.py\u001b[0m in \u001b[0;36m_poll\u001b[0;34m(self, timeout)\u001b[0m\n\u001b[1;32m    412\u001b[0m \u001b[0;34m\u001b[0m\u001b[0m\n\u001b[1;32m    413\u001b[0m     \u001b[0;32mdef\u001b[0m \u001b[0m_poll\u001b[0m\u001b[0;34m(\u001b[0m\u001b[0mself\u001b[0m\u001b[0;34m,\u001b[0m \u001b[0mtimeout\u001b[0m\u001b[0;34m)\u001b[0m\u001b[0;34m:\u001b[0m\u001b[0;34m\u001b[0m\u001b[0;34m\u001b[0m\u001b[0m\n\u001b[0;32m--> 414\u001b[0;31m         \u001b[0mr\u001b[0m \u001b[0;34m=\u001b[0m \u001b[0mwait\u001b[0m\u001b[0;34m(\u001b[0m\u001b[0;34m[\u001b[0m\u001b[0mself\u001b[0m\u001b[0;34m]\u001b[0m\u001b[0;34m,\u001b[0m \u001b[0mtimeout\u001b[0m\u001b[0;34m)\u001b[0m\u001b[0;34m\u001b[0m\u001b[0;34m\u001b[0m\u001b[0m\n\u001b[0m\u001b[1;32m    415\u001b[0m         \u001b[0;32mreturn\u001b[0m \u001b[0mbool\u001b[0m\u001b[0;34m(\u001b[0m\u001b[0mr\u001b[0m\u001b[0;34m)\u001b[0m\u001b[0;34m\u001b[0m\u001b[0;34m\u001b[0m\u001b[0m\n\u001b[1;32m    416\u001b[0m \u001b[0;34m\u001b[0m\u001b[0m\n",
      "\u001b[0;32m~/anaconda3/envs/pytorch/lib/python3.7/multiprocessing/connection.py\u001b[0m in \u001b[0;36mwait\u001b[0;34m(object_list, timeout)\u001b[0m\n\u001b[1;32m    919\u001b[0m \u001b[0;34m\u001b[0m\u001b[0m\n\u001b[1;32m    920\u001b[0m             \u001b[0;32mwhile\u001b[0m \u001b[0;32mTrue\u001b[0m\u001b[0;34m:\u001b[0m\u001b[0;34m\u001b[0m\u001b[0;34m\u001b[0m\u001b[0m\n\u001b[0;32m--> 921\u001b[0;31m                 \u001b[0mready\u001b[0m \u001b[0;34m=\u001b[0m \u001b[0mselector\u001b[0m\u001b[0;34m.\u001b[0m\u001b[0mselect\u001b[0m\u001b[0;34m(\u001b[0m\u001b[0mtimeout\u001b[0m\u001b[0;34m)\u001b[0m\u001b[0;34m\u001b[0m\u001b[0;34m\u001b[0m\u001b[0m\n\u001b[0m\u001b[1;32m    922\u001b[0m                 \u001b[0;32mif\u001b[0m \u001b[0mready\u001b[0m\u001b[0;34m:\u001b[0m\u001b[0;34m\u001b[0m\u001b[0;34m\u001b[0m\u001b[0m\n\u001b[1;32m    923\u001b[0m                     \u001b[0;32mreturn\u001b[0m \u001b[0;34m[\u001b[0m\u001b[0mkey\u001b[0m\u001b[0;34m.\u001b[0m\u001b[0mfileobj\u001b[0m \u001b[0;32mfor\u001b[0m \u001b[0;34m(\u001b[0m\u001b[0mkey\u001b[0m\u001b[0;34m,\u001b[0m \u001b[0mevents\u001b[0m\u001b[0;34m)\u001b[0m \u001b[0;32min\u001b[0m \u001b[0mready\u001b[0m\u001b[0;34m]\u001b[0m\u001b[0;34m\u001b[0m\u001b[0;34m\u001b[0m\u001b[0m\n",
      "\u001b[0;32m~/anaconda3/envs/pytorch/lib/python3.7/selectors.py\u001b[0m in \u001b[0;36mselect\u001b[0;34m(self, timeout)\u001b[0m\n\u001b[1;32m    413\u001b[0m         \u001b[0mready\u001b[0m \u001b[0;34m=\u001b[0m \u001b[0;34m[\u001b[0m\u001b[0;34m]\u001b[0m\u001b[0;34m\u001b[0m\u001b[0;34m\u001b[0m\u001b[0m\n\u001b[1;32m    414\u001b[0m         \u001b[0;32mtry\u001b[0m\u001b[0;34m:\u001b[0m\u001b[0;34m\u001b[0m\u001b[0;34m\u001b[0m\u001b[0m\n\u001b[0;32m--> 415\u001b[0;31m             \u001b[0mfd_event_list\u001b[0m \u001b[0;34m=\u001b[0m \u001b[0mself\u001b[0m\u001b[0;34m.\u001b[0m\u001b[0m_selector\u001b[0m\u001b[0;34m.\u001b[0m\u001b[0mpoll\u001b[0m\u001b[0;34m(\u001b[0m\u001b[0mtimeout\u001b[0m\u001b[0;34m)\u001b[0m\u001b[0;34m\u001b[0m\u001b[0;34m\u001b[0m\u001b[0m\n\u001b[0m\u001b[1;32m    416\u001b[0m         \u001b[0;32mexcept\u001b[0m \u001b[0mInterruptedError\u001b[0m\u001b[0;34m:\u001b[0m\u001b[0;34m\u001b[0m\u001b[0;34m\u001b[0m\u001b[0m\n\u001b[1;32m    417\u001b[0m             \u001b[0;32mreturn\u001b[0m \u001b[0mready\u001b[0m\u001b[0;34m\u001b[0m\u001b[0;34m\u001b[0m\u001b[0m\n",
      "\u001b[0;31mKeyboardInterrupt\u001b[0m: "
     ]
    }
   ],
   "source": [
    "for i, (data, bbox, target) in enumerate(trainLoader) :\n",
    "    count=Counter(target[0].numpy())\n",
    "    print(count)"
   ]
  },
  {
   "cell_type": "code",
   "execution_count": null,
   "id": "7649d5d0-6f0b-4fca-a992-8f2bf0fdb0f8",
   "metadata": {},
   "outputs": [],
   "source": [
    "train.label_cls.value_counts()"
   ]
  },
  {
   "cell_type": "code",
   "execution_count": null,
   "id": "64700ad1-8f5b-4835-bacd-6c8a4954185f",
   "metadata": {},
   "outputs": [],
   "source": [
    "train_dataset.df.label_cls.value_counts()"
   ]
  },
  {
   "cell_type": "code",
   "execution_count": null,
   "id": "b3e01e2d-5b48-443a-841d-c761c9716f9c",
   "metadata": {},
   "outputs": [],
   "source": []
  }
 ],
 "metadata": {
  "kernelspec": {
   "display_name": "pytorch",
   "language": "python",
   "name": "pytorch"
  },
  "language_info": {
   "codemirror_mode": {
    "name": "ipython",
    "version": 3
   },
   "file_extension": ".py",
   "mimetype": "text/x-python",
   "name": "python",
   "nbconvert_exporter": "python",
   "pygments_lexer": "ipython3",
   "version": "3.7.9"
  }
 },
 "nbformat": 4,
 "nbformat_minor": 5
}

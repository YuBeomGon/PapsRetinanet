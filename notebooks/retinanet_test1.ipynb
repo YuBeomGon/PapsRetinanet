{
 "cells": [
  {
   "cell_type": "code",
   "execution_count": 1,
   "id": "21475843-3fb8-4d70-96eb-84bc0afcc916",
   "metadata": {},
   "outputs": [],
   "source": [
    "\n",
    "import torch\n",
    "import torch.nn as nn\n",
    "from torch import Tensor\n",
    "from collections import OrderedDict\n",
    "from typing import Dict, List, Optional, Callable\n",
    "import timm\n",
    "import sys\n",
    "sys.path.append('../')\n",
    "\n",
    "from torchvision.ops.feature_pyramid_network import FeaturePyramidNetwork, LastLevelMaxPool, ExtraFPNBlock, LastLevelP6P7\n",
    "from torchvision.ops.misc import FrozenBatchNorm2d\n",
    "\n",
    "# from torchvision.models.detection.retinanet import RetinaNet\n",
    "from models.detection.retinanet import PapsRetinaNet\n",
    "\n",
    "\n",
    "\n",
    "from models.detection.backbone import PapsBackboneWithFPN"
   ]
  },
  {
   "cell_type": "code",
   "execution_count": 2,
   "id": "8eca2772-848d-4062-8fc6-4b2b4ecb74b6",
   "metadata": {},
   "outputs": [],
   "source": [
    "backbone = PapsBackboneWithFPN('resnet18')"
   ]
  },
  {
   "cell_type": "code",
   "execution_count": 3,
   "id": "427934c4-a8c2-41c8-9371-471161f8e021",
   "metadata": {},
   "outputs": [
    {
     "name": "stderr",
     "output_type": "stream",
     "text": [
      "/home/beomgon/anaconda3/envs/pytorch/lib/python3.7/site-packages/torch/functional.py:445: UserWarning: torch.meshgrid: in an upcoming release, it will be required to pass the indexing argument. (Triggered internally at  /opt/conda/conda-bld/pytorch_1639180543123/work/aten/src/ATen/native/TensorShape.cpp:2157.)\n",
      "  return _VF.meshgrid(tensors, **kwargs)  # type: ignore[attr-defined]\n"
     ]
    }
   ],
   "source": [
    "model = PapsRetinaNet(backbone,\n",
    "                  num_classes=1,\n",
    "                  anchor_generator=None)\n",
    "\n",
    "model.eval()\n",
    "model(torch.randn(2,3,500,500))\n",
    "del model"
   ]
  },
  {
   "cell_type": "code",
   "execution_count": 4,
   "id": "484e6647-07f6-4449-88e4-87dbffb9a7f2",
   "metadata": {},
   "outputs": [],
   "source": [
    "backbone = PapsBackboneWithFPN('resnet50', out_channels=256)"
   ]
  },
  {
   "cell_type": "code",
   "execution_count": 6,
   "id": "8195057a-337b-412d-9b7c-28527e948451",
   "metadata": {},
   "outputs": [],
   "source": [
    "model = PapsRetinaNet(backbone,\n",
    "                  num_classes=1,\n",
    "                  anchor_generator=None)\n",
    "\n",
    "model.eval()\n",
    "model(torch.randn(2,3,500,500))\n",
    "del model"
   ]
  },
  {
   "cell_type": "code",
   "execution_count": null,
   "id": "c0ca5032-ffcb-4772-a05e-7c83b9bea4d3",
   "metadata": {},
   "outputs": [],
   "source": [
    "backbone = PapsBackboneWithFPN('efficientnet_b8', out_channels=256)\n",
    "model = PapsRetinaNet(backbone,\n",
    "                  num_classes=1,\n",
    "                  anchor_generator=None)\n",
    "\n",
    "model.eval()\n",
    "model(torch.randn(2,3,500,500))\n"
   ]
  },
  {
   "cell_type": "code",
   "execution_count": null,
   "id": "506cac39-8507-4050-b399-dd7b18ae7527",
   "metadata": {},
   "outputs": [],
   "source": [
    "# backbone = PapsBackboneWithFPN('efficientnet_b8', out_channels=512)\n",
    "# model = RetinaNet(backbone,\n",
    "#                   num_classes=1,\n",
    "#                   anchor_generator=None)\n",
    "\n",
    "# model.eval()\n",
    "# model(torch.randn(2,3,400,400))\n",
    "# # del model"
   ]
  },
  {
   "cell_type": "markdown",
   "id": "88558dd3-8a87-4dfc-9b8f-e4835c34647f",
   "metadata": {},
   "source": [
    "backbone = PapsBackboneWithFPN('efficientnet_b8', out_channels=256)\n",
    "model = RetinaNet(backbone,\n",
    "                  num_classes=1,\n",
    "                  anchor_generator=None)\n",
    "\n",
    "model.eval()\n",
    "model(torch.randn(2,3,500,500))\n"
   ]
  },
  {
   "cell_type": "code",
   "execution_count": 8,
   "id": "b103f2bb-6a0f-40aa-94d9-19e12b1afb97",
   "metadata": {},
   "outputs": [],
   "source": [
    "# use this as classification\n",
    "# model.backbone.body"
   ]
  },
  {
   "cell_type": "code",
   "execution_count": 9,
   "id": "25e9052d-c80f-4c36-9715-8c9ebd736b21",
   "metadata": {},
   "outputs": [],
   "source": [
    "# timm didnt support transformer as a detection backbone\n",
    "# backbone = PapsBackboneWithFPN('swin_base_patch4_window7_224', out_channels=256)\n",
    "# model = RetinaNet(backbone,\n",
    "#                   num_classes=1,\n",
    "#                   anchor_generator=None)\n",
    "\n",
    "# model.eval()\n",
    "# model(torch.randn(2,3,500,500))\n"
   ]
  },
  {
   "cell_type": "code",
   "execution_count": null,
   "id": "ce821260-65bc-4393-b0c8-4966e8d6bf3c",
   "metadata": {},
   "outputs": [],
   "source": []
  }
 ],
 "metadata": {
  "kernelspec": {
   "display_name": "pytorch",
   "language": "python",
   "name": "pytorch"
  },
  "language_info": {
   "codemirror_mode": {
    "name": "ipython",
    "version": 3
   },
   "file_extension": ".py",
   "mimetype": "text/x-python",
   "name": "python",
   "nbconvert_exporter": "python",
   "pygments_lexer": "ipython3",
   "version": "3.7.9"
  }
 },
 "nbformat": 4,
 "nbformat_minor": 5
}

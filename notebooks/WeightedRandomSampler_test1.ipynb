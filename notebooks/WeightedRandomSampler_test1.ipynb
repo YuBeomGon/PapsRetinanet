{
 "cells": [
  {
   "cell_type": "code",
   "execution_count": 1,
   "id": "70cbd7be-81cf-4db8-ba36-2ec59b2d65e1",
   "metadata": {},
   "outputs": [],
   "source": [
    "# https://androidkt.com/deal-with-an-imbalanced-dataset-using-weightedrandomsampler-in-pytorch/\n",
    "# https://towardsdatascience.com/pytorch-basics-sampling-samplers-2a0f29f0bf2a"
   ]
  },
  {
   "cell_type": "code",
   "execution_count": 1,
   "id": "4c1db671-a1e1-4deb-aa6a-2bc84de1c8fa",
   "metadata": {},
   "outputs": [],
   "source": [
    "import numpy as np\n",
    "import pandas as pd\n",
    "import torch\n",
    "import torchvision\n",
    "import torch.nn as nn\n",
    "import torch.optim as optim\n",
    "import torch.nn.functional as F\n",
    "from torchvision import transforms, utils, datasets\n",
    "from torch.utils.data import Dataset, DataLoader, random_split, SubsetRandomSampler, WeightedRandomSampler, SequentialSampler, RandomSampler\n",
    "from sklearn.model_selection import train_test_split\n",
    "from collections import Counter"
   ]
  },
  {
   "cell_type": "code",
   "execution_count": 2,
   "id": "e1548fde-402c-4b12-8b7a-e11d6f5dffc2",
   "metadata": {},
   "outputs": [
    {
     "data": {
      "text/plain": [
       "<torch._C.Generator at 0x7fb8a5e19890>"
      ]
     },
     "execution_count": 2,
     "metadata": {},
     "output_type": "execute_result"
    }
   ],
   "source": [
    "import sys\n",
    "sys.path.append('../')\n",
    "from utils.dataset import *\n",
    "\n",
    "%matplotlib inline\n",
    "import seaborn as sns\n",
    "sns.set_style('darkgrid')\n",
    "\n",
    "np.random.seed(0)\n",
    "torch.manual_seed(0)"
   ]
  },
  {
   "cell_type": "code",
   "execution_count": 4,
   "id": "7742c12e-a4d5-48b5-9cb2-e7d59792235c",
   "metadata": {},
   "outputs": [
    {
     "data": {
      "text/html": [
       "<div>\n",
       "<style scoped>\n",
       "    .dataframe tbody tr th:only-of-type {\n",
       "        vertical-align: middle;\n",
       "    }\n",
       "\n",
       "    .dataframe tbody tr th {\n",
       "        vertical-align: top;\n",
       "    }\n",
       "\n",
       "    .dataframe thead th {\n",
       "        text-align: right;\n",
       "    }\n",
       "</style>\n",
       "<table border=\"1\" class=\"dataframe\">\n",
       "  <thead>\n",
       "    <tr style=\"text-align: right;\">\n",
       "      <th></th>\n",
       "      <th>file_name</th>\n",
       "      <th>task</th>\n",
       "      <th>label</th>\n",
       "      <th>xmin</th>\n",
       "      <th>ymin</th>\n",
       "      <th>w</th>\n",
       "      <th>h</th>\n",
       "      <th>occluded</th>\n",
       "      <th>des</th>\n",
       "      <th>cell_type</th>\n",
       "      <th>bbox</th>\n",
       "      <th>area</th>\n",
       "      <th>ratio</th>\n",
       "      <th>label_det</th>\n",
       "      <th>label_cls</th>\n",
       "      <th>label_hpv</th>\n",
       "    </tr>\n",
       "  </thead>\n",
       "  <tbody>\n",
       "    <tr>\n",
       "      <th>0</th>\n",
       "      <td>patch_images/2021.01.14/LBC424-20210111(1)/LBC...</td>\n",
       "      <td>[AS6] LBC424</td>\n",
       "      <td>AS</td>\n",
       "      <td>1337</td>\n",
       "      <td>102</td>\n",
       "      <td>256</td>\n",
       "      <td>136</td>\n",
       "      <td>0</td>\n",
       "      <td>NaN</td>\n",
       "      <td>ASC-US</td>\n",
       "      <td>[1337, 102, 256, 136]</td>\n",
       "      <td>186</td>\n",
       "      <td>1.371989</td>\n",
       "      <td>ASC-US</td>\n",
       "      <td>ASC-US</td>\n",
       "      <td>0</td>\n",
       "    </tr>\n",
       "    <tr>\n",
       "      <th>1</th>\n",
       "      <td>patch_images/2021.01.14/LBC424-20210111(1)/LBC...</td>\n",
       "      <td>[AS6] LBC424</td>\n",
       "      <td>AS</td>\n",
       "      <td>220</td>\n",
       "      <td>619</td>\n",
       "      <td>166</td>\n",
       "      <td>169</td>\n",
       "      <td>0</td>\n",
       "      <td>NaN</td>\n",
       "      <td>ASC-US</td>\n",
       "      <td>[220, 619, 166, 169]</td>\n",
       "      <td>167</td>\n",
       "      <td>0.991085</td>\n",
       "      <td>ASC-US</td>\n",
       "      <td>ASC-US</td>\n",
       "      <td>0</td>\n",
       "    </tr>\n",
       "    <tr>\n",
       "      <th>2</th>\n",
       "      <td>patch_images/2021.01.14/LBC424-20210111(1)/LBC...</td>\n",
       "      <td>[AS6] LBC424</td>\n",
       "      <td>AS</td>\n",
       "      <td>658</td>\n",
       "      <td>1747</td>\n",
       "      <td>191</td>\n",
       "      <td>166</td>\n",
       "      <td>0</td>\n",
       "      <td>NaN</td>\n",
       "      <td>ASC-US</td>\n",
       "      <td>[658, 1747, 191, 166]</td>\n",
       "      <td>178</td>\n",
       "      <td>1.072661</td>\n",
       "      <td>ASC-US</td>\n",
       "      <td>ASC-US</td>\n",
       "      <td>0</td>\n",
       "    </tr>\n",
       "    <tr>\n",
       "      <th>3</th>\n",
       "      <td>patch_images/2021.01.14/LBC424-20210111(1)/LBC...</td>\n",
       "      <td>[AS6] LBC424</td>\n",
       "      <td>AS</td>\n",
       "      <td>1571</td>\n",
       "      <td>365</td>\n",
       "      <td>136</td>\n",
       "      <td>146</td>\n",
       "      <td>0</td>\n",
       "      <td>NaN</td>\n",
       "      <td>ASC-US</td>\n",
       "      <td>[1571, 365, 136, 146]</td>\n",
       "      <td>140</td>\n",
       "      <td>0.965146</td>\n",
       "      <td>ASC-US</td>\n",
       "      <td>ASC-US</td>\n",
       "      <td>0</td>\n",
       "    </tr>\n",
       "    <tr>\n",
       "      <th>4</th>\n",
       "      <td>patch_images/2021.01.14/LBC424-20210111(1)/LBC...</td>\n",
       "      <td>[AS6] LBC424</td>\n",
       "      <td>AS</td>\n",
       "      <td>1044</td>\n",
       "      <td>1698</td>\n",
       "      <td>258</td>\n",
       "      <td>204</td>\n",
       "      <td>0</td>\n",
       "      <td>NaN</td>\n",
       "      <td>ASC-US</td>\n",
       "      <td>[1044, 1698, 258, 204]</td>\n",
       "      <td>229</td>\n",
       "      <td>1.124591</td>\n",
       "      <td>ASC-US</td>\n",
       "      <td>ASC-US</td>\n",
       "      <td>0</td>\n",
       "    </tr>\n",
       "  </tbody>\n",
       "</table>\n",
       "</div>"
      ],
      "text/plain": [
       "                                           file_name          task label  \\\n",
       "0  patch_images/2021.01.14/LBC424-20210111(1)/LBC...  [AS6] LBC424    AS   \n",
       "1  patch_images/2021.01.14/LBC424-20210111(1)/LBC...  [AS6] LBC424    AS   \n",
       "2  patch_images/2021.01.14/LBC424-20210111(1)/LBC...  [AS6] LBC424    AS   \n",
       "3  patch_images/2021.01.14/LBC424-20210111(1)/LBC...  [AS6] LBC424    AS   \n",
       "4  patch_images/2021.01.14/LBC424-20210111(1)/LBC...  [AS6] LBC424    AS   \n",
       "\n",
       "   xmin  ymin    w    h  occluded  des cell_type                    bbox  \\\n",
       "0  1337   102  256  136         0  NaN    ASC-US   [1337, 102, 256, 136]   \n",
       "1   220   619  166  169         0  NaN    ASC-US    [220, 619, 166, 169]   \n",
       "2   658  1747  191  166         0  NaN    ASC-US   [658, 1747, 191, 166]   \n",
       "3  1571   365  136  146         0  NaN    ASC-US   [1571, 365, 136, 146]   \n",
       "4  1044  1698  258  204         0  NaN    ASC-US  [1044, 1698, 258, 204]   \n",
       "\n",
       "   area     ratio label_det label_cls  label_hpv  \n",
       "0   186  1.371989    ASC-US    ASC-US          0  \n",
       "1   167  0.991085    ASC-US    ASC-US          0  \n",
       "2   178  1.072661    ASC-US    ASC-US          0  \n",
       "3   140  0.965146    ASC-US    ASC-US          0  \n",
       "4   229  1.124591    ASC-US    ASC-US          0  "
      ]
     },
     "execution_count": 4,
     "metadata": {},
     "output_type": "execute_result"
    }
   ],
   "source": [
    "train = pd.read_csv('../lbp_data/train.csv')\n",
    "train.head()\n"
   ]
  },
  {
   "cell_type": "code",
   "execution_count": 5,
   "id": "bcf2d091-45b6-46b0-82ea-d964d3845253",
   "metadata": {},
   "outputs": [
    {
     "data": {
      "text/plain": [
       "0           ASC-US\n",
       "1           ASC-US\n",
       "2           ASC-US\n",
       "3           ASC-US\n",
       "4           ASC-US\n",
       "           ...    \n",
       "17823    Carcinoma\n",
       "17824    Carcinoma\n",
       "17825    Carcinoma\n",
       "17826    Carcinoma\n",
       "17827    Carcinoma\n",
       "Name: label_cls, Length: 17828, dtype: object"
      ]
     },
     "execution_count": 5,
     "metadata": {},
     "output_type": "execute_result"
    }
   ],
   "source": [
    "train.label_cls"
   ]
  },
  {
   "cell_type": "code",
   "execution_count": 6,
   "id": "6fb72050-43fb-4661-b957-f6b62564c00b",
   "metadata": {},
   "outputs": [
    {
     "data": {
      "text/plain": [
       "Counter({'ASC-US': 8523,\n",
       "         'LSIL': 4066,\n",
       "         'Carcinoma': 502,\n",
       "         'ASC-H': 892,\n",
       "         'HSIL': 1103,\n",
       "         'Negative': 2742})"
      ]
     },
     "execution_count": 6,
     "metadata": {},
     "output_type": "execute_result"
    }
   ],
   "source": [
    "count=Counter(train.label_cls)\n",
    "count"
   ]
  },
  {
   "cell_type": "code",
   "execution_count": 7,
   "id": "73c4dcf2-e254-4ad2-bdbe-338661f32d4c",
   "metadata": {},
   "outputs": [
    {
     "data": {
      "text/plain": [
       "array([8523, 4066,  502,  892, 1103, 2742])"
      ]
     },
     "execution_count": 7,
     "metadata": {},
     "output_type": "execute_result"
    }
   ],
   "source": [
    "class_count=np.array([count['ASC-US'],count['LSIL'], count['Carcinoma'],count['ASC-H'], count['HSIL'],count['Negative']])\n",
    "class_count"
   ]
  },
  {
   "cell_type": "code",
   "execution_count": 8,
   "id": "90cf5f73-5210-49c6-9cbe-7da3a3866e69",
   "metadata": {},
   "outputs": [
    {
     "data": {
      "text/plain": [
       "Counter({0: 8523, 1: 4066, 4: 502, 3: 892, 2: 1103, 5: 2742})"
      ]
     },
     "execution_count": 8,
     "metadata": {},
     "output_type": "execute_result"
    }
   ],
   "source": [
    "train.label_cls = train.label_cls.apply(lambda x : label_id(x))\n",
    "count=Counter(train.label_cls)\n",
    "count"
   ]
  },
  {
   "cell_type": "code",
   "execution_count": 9,
   "id": "a21ca1ba-72bd-429f-abaa-1c92d759adde",
   "metadata": {},
   "outputs": [
    {
     "data": {
      "text/plain": [
       "array([8523, 4066, 1103,  892,  502, 2742])"
      ]
     },
     "execution_count": 9,
     "metadata": {},
     "output_type": "execute_result"
    }
   ],
   "source": [
    "class_count=np.array([count[0],count[1], count[2],count[3], count[4],count[5]])\n",
    "class_count"
   ]
  },
  {
   "cell_type": "code",
   "execution_count": 10,
   "id": "d2e2accc-43a3-4d17-9436-dd4dd9b19772",
   "metadata": {},
   "outputs": [
    {
     "data": {
      "text/plain": [
       "array([0.01083188, 0.01568254, 0.0301101 , 0.03348248, 0.04463218,\n",
       "       0.01909705])"
      ]
     },
     "execution_count": 10,
     "metadata": {},
     "output_type": "execute_result"
    }
   ],
   "source": [
    "weight=np.sqrt(1./class_count)\n",
    "weight"
   ]
  },
  {
   "cell_type": "code",
   "execution_count": 11,
   "id": "b999db05-ab89-4acf-840f-f9a8cc0f093d",
   "metadata": {},
   "outputs": [],
   "source": [
    "samples_weight = np.array([weight[t] for t in train.label_cls])\n",
    "samples_weight=torch.from_numpy(samples_weight)"
   ]
  },
  {
   "cell_type": "code",
   "execution_count": 12,
   "id": "e418cec9-ccd5-4be3-96e3-dbf2347a6385",
   "metadata": {},
   "outputs": [
    {
     "data": {
      "text/plain": [
       "tensor([0.0108, 0.0108, 0.0108,  ..., 0.0446, 0.0446, 0.0446],\n",
       "       dtype=torch.float64)"
      ]
     },
     "execution_count": 12,
     "metadata": {},
     "output_type": "execute_result"
    }
   ],
   "source": [
    "samples_weight"
   ]
  },
  {
   "cell_type": "code",
   "execution_count": 13,
   "id": "b1d2697e-2e3a-43ce-a4ec-9dc6ff13faec",
   "metadata": {},
   "outputs": [
    {
     "name": "stdout",
     "output_type": "stream",
     "text": [
      "[4, 4, 4, 4, 4, 4, 4, 4, 4, 4]\n"
     ]
    }
   ],
   "source": [
    "print(list(train.label_cls)[-10:])"
   ]
  },
  {
   "cell_type": "code",
   "execution_count": 14,
   "id": "82aee525-47be-4eef-9bf6-8a00ea7685ad",
   "metadata": {},
   "outputs": [
    {
     "data": {
      "text/plain": [
       "17828"
      ]
     },
     "execution_count": 14,
     "metadata": {},
     "output_type": "execute_result"
    }
   ],
   "source": [
    "len(samples_weight)"
   ]
  },
  {
   "cell_type": "code",
   "execution_count": 15,
   "id": "a507bd54-921a-4acb-8c96-898c78d9cb4d",
   "metadata": {},
   "outputs": [],
   "source": [
    "sampler = WeightedRandomSampler(samples_weight, len(samples_weight))"
   ]
  },
  {
   "cell_type": "code",
   "execution_count": null,
   "id": "4380a72a-a1a3-409e-a789-d28fa636a2d6",
   "metadata": {},
   "outputs": [],
   "source": []
  },
  {
   "cell_type": "code",
   "execution_count": null,
   "id": "baede35d-c8f2-4f99-8589-b1131ba6d6d4",
   "metadata": {},
   "outputs": [],
   "source": []
  },
  {
   "cell_type": "code",
   "execution_count": 3,
   "id": "fe4b7df3-1b2e-4442-adb1-e38b43b9334f",
   "metadata": {},
   "outputs": [
    {
     "name": "stdout",
     "output_type": "stream",
     "text": [
      "(17828, 16)\n"
     ]
    }
   ],
   "source": [
    "train = pd.read_csv('../lbp_data/train.csv')\n",
    "train_dataset = PapsClsDataset(train, transform=train_transforms)"
   ]
  },
  {
   "cell_type": "code",
   "execution_count": 4,
   "id": "eaae9895-3552-402d-b9b3-0dfad1c5bfee",
   "metadata": {},
   "outputs": [
    {
     "data": {
      "text/plain": [
       "0    8523\n",
       "1    4066\n",
       "5    2742\n",
       "2    1103\n",
       "3     892\n",
       "4     502\n",
       "Name: label_cls, dtype: int64"
      ]
     },
     "execution_count": 4,
     "metadata": {},
     "output_type": "execute_result"
    }
   ],
   "source": [
    "train_dataset.df.label_cls.value_counts()"
   ]
  },
  {
   "cell_type": "code",
   "execution_count": 5,
   "id": "e27523a2-522e-4531-82f0-40cbba88efa4",
   "metadata": {},
   "outputs": [
    {
     "data": {
      "text/plain": [
       "array([3, 2, 2, ..., 0, 4, 1])"
      ]
     },
     "execution_count": 5,
     "metadata": {},
     "output_type": "execute_result"
    }
   ],
   "source": [
    "train_dataset.df.label_cls.values"
   ]
  },
  {
   "cell_type": "code",
   "execution_count": 6,
   "id": "979c45c1-0b83-4363-b900-45c513d80fba",
   "metadata": {},
   "outputs": [
    {
     "data": {
      "text/plain": [
       "Counter({3: 892, 2: 1103, 5: 2742, 0: 8523, 4: 502, 1: 4066})"
      ]
     },
     "execution_count": 6,
     "metadata": {},
     "output_type": "execute_result"
    }
   ],
   "source": [
    "count=Counter(train_dataset.df.label_cls)\n",
    "count"
   ]
  },
  {
   "cell_type": "code",
   "execution_count": null,
   "id": "692de545-7b1d-4a78-9ecd-9d240bc2c1eb",
   "metadata": {},
   "outputs": [],
   "source": []
  },
  {
   "cell_type": "code",
   "execution_count": 7,
   "id": "79ad99e7-8b4a-4670-9e63-64e2c9b97edd",
   "metadata": {},
   "outputs": [
    {
     "data": {
      "text/plain": [
       "array([8523, 4066, 1103,  892,  502, 2742])"
      ]
     },
     "execution_count": 7,
     "metadata": {},
     "output_type": "execute_result"
    }
   ],
   "source": [
    "class_count=np.array([count[0],count[1], count[2],count[3], count[4],count[5]])\n",
    "class_count"
   ]
  },
  {
   "cell_type": "code",
   "execution_count": 8,
   "id": "cd89cb76-a506-4800-8bae-14bc2b61edeb",
   "metadata": {},
   "outputs": [
    {
     "data": {
      "text/plain": [
       "array([0.01083188, 0.01568254, 0.0301101 , 0.03348248, 0.04463218,\n",
       "       0.01909705])"
      ]
     },
     "execution_count": 8,
     "metadata": {},
     "output_type": "execute_result"
    }
   ],
   "source": [
    "weight=np.sqrt(1./class_count)\n",
    "# weight=(1./class_count)\n",
    "weight"
   ]
  },
  {
   "cell_type": "code",
   "execution_count": 9,
   "id": "a77de053-6114-4f27-8d47-890d6de59303",
   "metadata": {},
   "outputs": [],
   "source": [
    "samples_weight = np.array([weight[t] for t in train_dataset.df.label_cls.values])\n",
    "samples_weight=torch.from_numpy(samples_weight)\n",
    "sampler = WeightedRandomSampler(samples_weight, len(samples_weight))"
   ]
  },
  {
   "cell_type": "code",
   "execution_count": 10,
   "id": "3d5317a3-1ca1-43d2-952a-120493d87a08",
   "metadata": {},
   "outputs": [
    {
     "data": {
      "text/plain": [
       "tensor([0.0335, 0.0301, 0.0301,  ..., 0.0108, 0.0446, 0.0157],\n",
       "       dtype=torch.float64)"
      ]
     },
     "execution_count": 10,
     "metadata": {},
     "output_type": "execute_result"
    }
   ],
   "source": [
    "samples_weight"
   ]
  },
  {
   "cell_type": "code",
   "execution_count": 11,
   "id": "469d24f4-13c4-4c15-80b8-7f934f8ca954",
   "metadata": {},
   "outputs": [],
   "source": [
    "trainLoader = torch.utils.data.DataLoader(train_dataset, batch_size=16, num_workers=8, sampler = sampler)"
   ]
  },
  {
   "cell_type": "code",
   "execution_count": 12,
   "id": "d2fce60d-771e-4169-bb6b-16cde5967d2c",
   "metadata": {},
   "outputs": [
    {
     "data": {
      "text/plain": [
       "Counter({1: 4, 0: 5, 5: 4, 3: 2, 4: 1})"
      ]
     },
     "execution_count": 12,
     "metadata": {},
     "output_type": "execute_result"
    }
   ],
   "source": [
    "images, boxes, labels = next(iter(trainLoader))\n",
    "count=Counter(np.array(labels[0]))\n",
    "count"
   ]
  },
  {
   "cell_type": "code",
   "execution_count": 13,
   "id": "73b6bfda-86bf-467b-bc8e-87f22eb65cbe",
   "metadata": {},
   "outputs": [
    {
     "name": "stdout",
     "output_type": "stream",
     "text": [
      "[tensor([1, 0, 0, 5, 5, 1, 0, 5, 3, 1, 3, 4, 1, 0, 0, 5])]\n"
     ]
    }
   ],
   "source": [
    "print(labels)"
   ]
  },
  {
   "cell_type": "code",
   "execution_count": 26,
   "id": "ae8c77dd-1bbf-42d0-8386-072661b73759",
   "metadata": {},
   "outputs": [
    {
     "data": {
      "text/plain": [
       "'\\nfor i, (target) in enumerate(trainLoader) :\\n    \\n    count=Counter(target.numpy())\\n    print(count)\\n'"
      ]
     },
     "execution_count": 26,
     "metadata": {},
     "output_type": "execute_result"
    }
   ],
   "source": [
    "'''\n",
    "for i, (target) in enumerate(trainLoader) :\n",
    "    \n",
    "    count=Counter(target.numpy())\n",
    "    print(count)\n",
    "'''"
   ]
  },
  {
   "cell_type": "code",
   "execution_count": 27,
   "id": "b3e01e2d-5b48-443a-841d-c761c9716f9c",
   "metadata": {},
   "outputs": [
    {
     "name": "stdout",
     "output_type": "stream",
     "text": [
      "[0, 2, 1, 0, 2, 1, 2, 2, 0, 2, 1, 1, 0, 0, 2, 0, 0, 0, 1, 0, 2, 1, 1, 1, 1, 2, 1, 1, 0, 1, 0, 2, 0, 2, 0, 1, 1, 2, 0, 1, 0, 0, 1, 2, 0, 0, 0, 2, 1, 0]\n"
     ]
    }
   ],
   "source": [
    "targets = list(WeightedRandomSampler([1., 0.9, 0.5], 50, replacement=True))\n",
    "print(targets)"
   ]
  },
  {
   "cell_type": "code",
   "execution_count": 28,
   "id": "47e838b9-4e6f-4050-a354-1ec4f6402995",
   "metadata": {},
   "outputs": [
    {
     "data": {
      "text/plain": [
       "Counter({0: 20, 2: 13, 1: 17})"
      ]
     },
     "execution_count": 28,
     "metadata": {},
     "output_type": "execute_result"
    }
   ],
   "source": [
    "count=Counter(targets)\n",
    "count"
   ]
  },
  {
   "cell_type": "code",
   "execution_count": 29,
   "id": "ea3be696-6e76-49fb-b560-abf3e9911536",
   "metadata": {},
   "outputs": [
    {
     "name": "stdout",
     "output_type": "stream",
     "text": [
      "[14, 6, 9, 1, 3, 13, 11, 7, 12, 4]\n"
     ]
    }
   ],
   "source": [
    "targets = list(WeightedRandomSampler([1., 0.9, 0.5, 1., 0.9, 0.5, 1., 0.9, 0.5, 1., 0.9, 0.5, 1., 0.9, 0.5], 10, replacement=False))\n",
    "print(targets)"
   ]
  },
  {
   "cell_type": "code",
   "execution_count": null,
   "id": "08523e3d-9e1f-4349-b6d1-7d7b82178f35",
   "metadata": {},
   "outputs": [],
   "source": []
  },
  {
   "cell_type": "code",
   "execution_count": null,
   "id": "261735d4-c0ac-485b-8575-0e76dc872778",
   "metadata": {},
   "outputs": [],
   "source": []
  }
 ],
 "metadata": {
  "kernelspec": {
   "display_name": "pytorch",
   "language": "python",
   "name": "pytorch"
  },
  "language_info": {
   "codemirror_mode": {
    "name": "ipython",
    "version": 3
   },
   "file_extension": ".py",
   "mimetype": "text/x-python",
   "name": "python",
   "nbconvert_exporter": "python",
   "pygments_lexer": "ipython3",
   "version": "3.7.9"
  }
 },
 "nbformat": 4,
 "nbformat_minor": 5
}

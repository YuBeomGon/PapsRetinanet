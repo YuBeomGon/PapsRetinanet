{
 "cells": [
  {
   "cell_type": "code",
   "execution_count": 1,
   "id": "21475843-3fb8-4d70-96eb-84bc0afcc916",
   "metadata": {},
   "outputs": [],
   "source": [
    "import os\n",
    "import timm\n",
    "import logging\n",
    "import argparse\n",
    "import pandas as pd\n",
    "import numpy as np\n",
    "from typing import Optional\n",
    "from datetime import datetime\n",
    "\n",
    "import sys\n",
    "sys.path.append('../')\n",
    "\n",
    "import torch\n",
    "import torch.nn as nn\n",
    "import torch.nn.functional as F\n",
    "import torch.nn.parallel\n",
    "import torch.optim as optim\n",
    "import torch.optim.lr_scheduler as lr_scheduler\n",
    "import torch.utils.data\n",
    "import torch.utils.data.distributed\n",
    "import torchvision.datasets as datasets\n",
    "import torchvision.models as models\n",
    "import torchvision.transforms as transforms\n",
    "from torch.utils.data import Dataset\n",
    "\n",
    "\n",
    "from utils.dataset import PapsClsDataset, train_transforms, val_transforms, test_transforms, MAX_IMAGE_SIZE\n",
    "from utils.collate import collate_fn\n",
    "from utils.sampler import get_weight_random_sampler\n",
    "# from utils.losses import SupConLoss, FocalLoss\n",
    "\n",
    "from cls_utils.block import Bottleneck, TwoMLPHead, RoIPool\n",
    "from collections import Counter"
   ]
  },
  {
   "cell_type": "code",
   "execution_count": 2,
   "id": "4fa2257b-03ae-47d7-8cb6-0073b170917d",
   "metadata": {},
   "outputs": [
    {
     "data": {
      "text/plain": [
       "(17828, 16)"
      ]
     },
     "execution_count": 2,
     "metadata": {},
     "output_type": "execute_result"
    }
   ],
   "source": [
    "train = pd.read_csv('../lbp_data/train.csv')\n",
    "train.shape"
   ]
  },
  {
   "cell_type": "code",
   "execution_count": 3,
   "id": "ec702691-1bc3-4671-a570-87649010b707",
   "metadata": {},
   "outputs": [
    {
     "name": "stdout",
     "output_type": "stream",
     "text": [
      "(17828, 16)\n"
     ]
    }
   ],
   "source": [
    "train_dataset = PapsClsDataset(train, transform=train_transforms)"
   ]
  },
  {
   "cell_type": "code",
   "execution_count": 4,
   "id": "8dca7648-4fe5-468e-84a3-e42b417160e0",
   "metadata": {},
   "outputs": [
    {
     "data": {
      "text/plain": [
       "0    8523\n",
       "1    4066\n",
       "5    2742\n",
       "2    1103\n",
       "3     892\n",
       "4     502\n",
       "Name: label_cls, dtype: int64"
      ]
     },
     "execution_count": 4,
     "metadata": {},
     "output_type": "execute_result"
    }
   ],
   "source": [
    "train_dataset.df.label_cls.value_counts()"
   ]
  },
  {
   "cell_type": "code",
   "execution_count": 5,
   "id": "bf38543d-ed34-4dee-80ae-b0e19e6078fc",
   "metadata": {},
   "outputs": [],
   "source": [
    "weightedbatchsampler = get_weight_random_sampler(train_dataset)"
   ]
  },
  {
   "cell_type": "code",
   "execution_count": 6,
   "id": "0469c8a4-8b4c-468d-ac28-f15a41f47cd4",
   "metadata": {},
   "outputs": [
    {
     "data": {
      "text/plain": [
       "<torch.utils.data.sampler.WeightedRandomSampler at 0x7f9440681650>"
      ]
     },
     "execution_count": 6,
     "metadata": {},
     "output_type": "execute_result"
    }
   ],
   "source": [
    "weightedbatchsampler"
   ]
  },
  {
   "cell_type": "code",
   "execution_count": null,
   "id": "c2856d5a-ddfc-4760-a6b8-f69ed38818ee",
   "metadata": {},
   "outputs": [],
   "source": []
  },
  {
   "cell_type": "code",
   "execution_count": 9,
   "id": "0a57021e-50f8-40f0-b5aa-8c7222ddf3c5",
   "metadata": {},
   "outputs": [],
   "source": [
    "train_dataloader = torch.utils.data.DataLoader(\n",
    "            dataset=train_dataset,\n",
    "            batch_size=16,\n",
    "            shuffle=False,\n",
    "            collate_fn=collate_fn,\n",
    "            num_workers=8,\n",
    "            sampler=weightedbatchsampler,\n",
    "        )"
   ]
  },
  {
   "cell_type": "code",
   "execution_count": 10,
   "id": "95d0cdb9-5723-4a05-baae-9a55940c0187",
   "metadata": {},
   "outputs": [],
   "source": [
    "images, boxes, labels = next(iter(train_dataloader))\n"
   ]
  },
  {
   "cell_type": "code",
   "execution_count": 11,
   "id": "5e38b99a-d5ba-4f34-82aa-45ef0fae2fdf",
   "metadata": {},
   "outputs": [
    {
     "data": {
      "text/plain": [
       "Counter({0: 4, 5: 2, 1: 7, 4: 2, 2: 1})"
      ]
     },
     "execution_count": 11,
     "metadata": {},
     "output_type": "execute_result"
    }
   ],
   "source": [
    "count=Counter(labels[:,0].numpy())\n",
    "count"
   ]
  },
  {
   "cell_type": "code",
   "execution_count": 12,
   "id": "fd989cc9-435b-44c8-935b-d90eeaf312bd",
   "metadata": {},
   "outputs": [
    {
     "name": "stdout",
     "output_type": "stream",
     "text": [
      "tensor([0, 5, 1, 1, 4, 1, 1, 1, 1, 2, 0, 0, 1, 4, 5, 0])\n"
     ]
    },
    {
     "name": "stderr",
     "output_type": "stream",
     "text": [
      "ERROR: Unexpected bus error encountered in worker. This might be caused by insufficient shared memory (shm).\n",
      "\u0000"
     ]
    }
   ],
   "source": [
    "print(labels[:,0])"
   ]
  },
  {
   "cell_type": "code",
   "execution_count": null,
   "id": "918b153a-24db-4354-8f35-6f0546bb3309",
   "metadata": {},
   "outputs": [],
   "source": []
  }
 ],
 "metadata": {
  "kernelspec": {
   "display_name": "pytorch",
   "language": "python",
   "name": "pytorch"
  },
  "language_info": {
   "codemirror_mode": {
    "name": "ipython",
    "version": 3
   },
   "file_extension": ".py",
   "mimetype": "text/x-python",
   "name": "python",
   "nbconvert_exporter": "python",
   "pygments_lexer": "ipython3",
   "version": "3.7.9"
  }
 },
 "nbformat": 4,
 "nbformat_minor": 5
}
